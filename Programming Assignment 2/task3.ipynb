{
 "cells": [
  {
   "cell_type": "markdown",
   "metadata": {
    "deletable": false,
    "editable": false,
    "nbgrader": {
     "cell_type": "markdown",
     "checksum": "cdc7ee443a1a11f645fe479d3ec15755",
     "grade": false,
     "grade_id": "cell-657f3f39aba9a7d9",
     "locked": true,
     "schema_version": 3,
     "solution": false,
     "task": false
    }
   },
   "source": [
    "# Task 3: Implementing All Reduce with Ray \n",
    "\n",
    "In this task, you will be using the point-to-point communication APIs in [ray.util.collective](https://docs.ray.io/en/latest/ray-more-libs/ray-collective.html) to implement the AllReduce collective communication operation. To be specific, we have provided you a template of a `Worker` class. This class is a Ray Actor, and different actor processes will be maintaining the Actor state and will handle method execution for the respective instances. You need to complete the functions of this class so that the Actor processes can perform AllReduce communication among them. \n",
    "\n",
    "You need to implement:\n",
    "1. Simple P2P communication: `do_send`, `do_recv` and `do_send_recv`\n",
    "2. Ray AllReduce: A simple allreduce implementation that uses Ray's built-in\n",
    "3. BDE AllReduce: `bde_all_reduce`. This function should implement the BDE (bidirectional exchanges) version of AllReduce. The reduce operation will perform addition over all the messages of the processes\n",
    "3. MST AllReduce: `mst_all_reduce` . This function should implement the MST (minimum-spanning tree) version of AllReduce. The reduce operation will perform addition over all the messages of the processes. You need to implement this MST AllReduce using Reduce and Broadcast operations as the building blocks\n",
    "\n",
    "For MST and BDE AllReduce, you can only use the P2P communcation functions (`do_send`, etc) and any other helper methods that you write. \n",
    "\n",
    "We have provided you with profiling functions so that you can see the difference between these implementations."
   ]
  },
  {
   "cell_type": "code",
   "execution_count": 1,
   "metadata": {
    "deletable": false,
    "editable": false,
    "nbgrader": {
     "cell_type": "code",
     "checksum": "c26ca1a4671d9ab0a11fecce5c6d5480",
     "grade": false,
     "grade_id": "cell-9b75c24baba55ae4",
     "locked": true,
     "schema_version": 3,
     "solution": false,
     "task": false
    }
   },
   "outputs": [
    {
     "name": "stderr",
     "output_type": "stream",
     "text": [
      "2024-03-04 23:45:56,307\tINFO util.py:154 -- Outdated packages:\n",
      "  ipywidgets==7.8.1 found, needs ipywidgets>=8\n",
      "Run `pip install -U ipywidgets`, then restart the notebook server for rich notebook output.\n",
      "2024-03-04 23:45:58,471\tWARNING collective.py:20 -- NCCL seems unavailable. Please install Cupy following the guide at: https://docs.cupy.dev/en/stable/install.html.\n",
      "2024-03-04 23:45:58,491\tINFO worker.py:1540 -- Connecting to existing Ray cluster at address: 10.47.192.23:6380...\n",
      "2024-03-04 23:45:58,533\tINFO worker.py:1715 -- Connected to Ray cluster. View the dashboard at \u001b[1m\u001b[32mhttp://10.47.192.23:8265 \u001b[39m\u001b[22m\n"
     ]
    },
    {
     "data": {
      "text/html": [
       "<div class=\"lm-Widget p-Widget lm-Panel p-Panel jp-Cell-outputWrapper\">\n",
       "    <div style=\"margin-left: 50px;display: flex;flex-direction: row;align-items: center\">\n",
       "        <div class=\"jp-RenderedHTMLCommon\" style=\"display: flex; flex-direction: row;\">\n",
       "  <svg viewBox=\"0 0 567 224\" fill=\"none\" xmlns=\"http://www.w3.org/2000/svg\" style=\"height: 3em;\">\n",
       "    <g clip-path=\"url(#clip0_4338_178347)\">\n",
       "        <path d=\"M341.29 165.561H355.29L330.13 129.051C345.63 123.991 354.21 112.051 354.21 94.2307C354.21 71.3707 338.72 58.1807 311.88 58.1807H271V165.561H283.27V131.661H311.8C314.25 131.661 316.71 131.501 319.01 131.351L341.25 165.561H341.29ZM283.29 119.851V70.0007H311.82C331.3 70.0007 342.34 78.2907 342.34 94.5507C342.34 111.271 331.34 119.861 311.82 119.861L283.29 119.851ZM451.4 138.411L463.4 165.561H476.74L428.74 58.1807H416L367.83 165.561H380.83L392.83 138.411H451.4ZM446.19 126.601H398L422 72.1407L446.24 126.601H446.19ZM526.11 128.741L566.91 58.1807H554.35L519.99 114.181L485.17 58.1807H472.44L514.01 129.181V165.541H526.13V128.741H526.11Z\" fill=\"var(--jp-ui-font-color0)\"/>\n",
       "        <path d=\"M82.35 104.44C84.0187 97.8827 87.8248 92.0678 93.1671 87.9146C98.5094 83.7614 105.083 81.5067 111.85 81.5067C118.617 81.5067 125.191 83.7614 130.533 87.9146C135.875 92.0678 139.681 97.8827 141.35 104.44H163.75C164.476 101.562 165.622 98.8057 167.15 96.2605L127.45 56.5605C121.071 60.3522 113.526 61.6823 106.235 60.3005C98.9443 58.9187 92.4094 54.9203 87.8602 49.0574C83.3109 43.1946 81.0609 35.8714 81.5332 28.4656C82.0056 21.0599 85.1679 14.0819 90.4252 8.8446C95.6824 3.60726 102.672 0.471508 110.08 0.0272655C117.487 -0.416977 124.802 1.86091 130.647 6.4324C136.493 11.0039 140.467 17.5539 141.821 24.8501C143.175 32.1463 141.816 39.6859 138 46.0505L177.69 85.7505C182.31 82.9877 187.58 81.4995 192.962 81.4375C198.345 81.3755 203.648 82.742 208.33 85.3976C213.012 88.0532 216.907 91.9029 219.616 96.5544C222.326 101.206 223.753 106.492 223.753 111.875C223.753 117.258 222.326 122.545 219.616 127.197C216.907 131.848 213.012 135.698 208.33 138.353C203.648 141.009 198.345 142.375 192.962 142.313C187.58 142.251 182.31 140.763 177.69 138L138 177.7C141.808 184.071 143.155 191.614 141.79 198.91C140.424 206.205 136.44 212.75 130.585 217.313C124.731 221.875 117.412 224.141 110.004 223.683C102.596 223.226 95.6103 220.077 90.3621 214.828C85.1139 209.58 81.9647 202.595 81.5072 195.187C81.0497 187.779 83.3154 180.459 87.878 174.605C92.4405 168.751 98.9853 164.766 106.281 163.401C113.576 162.035 121.119 163.383 127.49 167.19L167.19 127.49C165.664 124.941 164.518 122.182 163.79 119.3H141.39C139.721 125.858 135.915 131.673 130.573 135.826C125.231 139.98 118.657 142.234 111.89 142.234C105.123 142.234 98.5494 139.98 93.2071 135.826C87.8648 131.673 84.0587 125.858 82.39 119.3H60C58.1878 126.495 53.8086 132.78 47.6863 136.971C41.5641 141.163 34.1211 142.972 26.7579 142.059C19.3947 141.146 12.6191 137.574 7.70605 132.014C2.79302 126.454 0.0813599 119.29 0.0813599 111.87C0.0813599 104.451 2.79302 97.2871 7.70605 91.7272C12.6191 86.1673 19.3947 82.5947 26.7579 81.6817C34.1211 80.7686 41.5641 82.5781 47.6863 86.7696C53.8086 90.9611 58.1878 97.2456 60 104.44H82.35ZM100.86 204.32C103.407 206.868 106.759 208.453 110.345 208.806C113.93 209.159 117.527 208.258 120.522 206.256C123.517 204.254 125.725 201.276 126.771 197.828C127.816 194.38 127.633 190.677 126.253 187.349C124.874 184.021 122.383 181.274 119.205 179.577C116.027 177.88 112.359 177.337 108.826 178.042C105.293 178.746 102.113 180.654 99.8291 183.44C97.5451 186.226 96.2979 189.718 96.3 193.32C96.2985 195.364 96.7006 197.388 97.4831 199.275C98.2656 201.163 99.4132 202.877 100.86 204.32ZM204.32 122.88C206.868 120.333 208.453 116.981 208.806 113.396C209.159 109.811 208.258 106.214 206.256 103.219C204.254 100.223 201.275 98.0151 197.827 96.97C194.38 95.9249 190.676 96.1077 187.348 97.4873C184.02 98.8669 181.274 101.358 179.577 104.536C177.879 107.714 177.337 111.382 178.041 114.915C178.746 118.448 180.653 121.627 183.439 123.911C186.226 126.195 189.717 127.443 193.32 127.44C195.364 127.443 197.388 127.042 199.275 126.259C201.163 125.476 202.878 124.328 204.32 122.88ZM122.88 19.4205C120.333 16.8729 116.981 15.2876 113.395 14.9347C109.81 14.5817 106.213 15.483 103.218 17.4849C100.223 19.4868 98.0146 22.4654 96.9696 25.9131C95.9245 29.3608 96.1073 33.0642 97.4869 36.3922C98.8665 39.7202 101.358 42.4668 104.535 44.1639C107.713 45.861 111.381 46.4036 114.914 45.6992C118.447 44.9949 121.627 43.0871 123.911 40.301C126.195 37.515 127.442 34.0231 127.44 30.4205C127.44 28.3772 127.038 26.3539 126.255 24.4664C125.473 22.5788 124.326 20.8642 122.88 19.4205ZM19.42 100.86C16.8725 103.408 15.2872 106.76 14.9342 110.345C14.5813 113.93 15.4826 117.527 17.4844 120.522C19.4863 123.518 22.4649 125.726 25.9127 126.771C29.3604 127.816 33.0638 127.633 36.3918 126.254C39.7198 124.874 42.4664 122.383 44.1635 119.205C45.8606 116.027 46.4032 112.359 45.6988 108.826C44.9944 105.293 43.0866 102.114 40.3006 99.8296C37.5145 97.5455 34.0227 96.2983 30.42 96.3005C26.2938 96.3018 22.337 97.9421 19.42 100.86ZM100.86 100.86C98.3125 103.408 96.7272 106.76 96.3742 110.345C96.0213 113.93 96.9226 117.527 98.9244 120.522C100.926 123.518 103.905 125.726 107.353 126.771C110.8 127.816 114.504 127.633 117.832 126.254C121.16 124.874 123.906 122.383 125.604 119.205C127.301 116.027 127.843 112.359 127.139 108.826C126.434 105.293 124.527 102.114 121.741 99.8296C118.955 97.5455 115.463 96.2983 111.86 96.3005C109.817 96.299 107.793 96.701 105.905 97.4835C104.018 98.2661 102.303 99.4136 100.86 100.86Z\" fill=\"#00AEEF\"/>\n",
       "    </g>\n",
       "    <defs>\n",
       "        <clipPath id=\"clip0_4338_178347\">\n",
       "            <rect width=\"566.93\" height=\"223.75\" fill=\"white\"/>\n",
       "        </clipPath>\n",
       "    </defs>\n",
       "  </svg>\n",
       "</div>\n",
       "\n",
       "        <table class=\"jp-RenderedHTMLCommon\" style=\"border-collapse: collapse;color: var(--jp-ui-font-color1);font-size: var(--jp-ui-font-size1);\">\n",
       "    <tr>\n",
       "        <td style=\"text-align: left\"><b>Python version:</b></td>\n",
       "        <td style=\"text-align: left\"><b>3.8.18</b></td>\n",
       "    </tr>\n",
       "    <tr>\n",
       "        <td style=\"text-align: left\"><b>Ray version:</b></td>\n",
       "        <td style=\"text-align: left\"><b>2.9.3</b></td>\n",
       "    </tr>\n",
       "    <tr>\n",
       "    <td style=\"text-align: left\"><b>Dashboard:</b></td>\n",
       "    <td style=\"text-align: left\"><b><a href=\"http://10.47.192.23:8265\" target=\"_blank\">http://10.47.192.23:8265</a></b></td>\n",
       "</tr>\n",
       "\n",
       "</table>\n",
       "\n",
       "    </div>\n",
       "</div>\n"
      ],
      "text/plain": [
       "RayContext(dashboard_url='10.47.192.23:8265', python_version='3.8.18', ray_version='2.9.3', ray_commit='62655e11ed76509b78654b60be67bc59f8f3460a', protocol_version=None)"
      ]
     },
     "execution_count": 1,
     "metadata": {},
     "output_type": "execute_result"
    }
   ],
   "source": [
    "import ray, torch, math, os, time, itertools\n",
    "import numpy as np\n",
    "import ray.util.collective as col\n",
    "from ray.util.collective import types\n",
    "import types as t\n",
    "\n",
    "os.environ[\"PYTHONWARNINGS\"]=\"ignore::DeprecationWarning\"\n",
    "world_size = 8   # change this to a smaller number if you need to debug\n",
    "group_name = \"dsc_204a\"\n",
    "backend = \"gloo\"\n",
    "ray.init() "
   ]
  },
  {
   "cell_type": "code",
   "execution_count": 2,
   "metadata": {
    "deletable": false,
    "nbgrader": {
     "cell_type": "code",
     "checksum": "603800695730754d7ced255e62675a41",
     "grade": false,
     "grade_id": "cell-f9238352ee85de1a",
     "locked": false,
     "schema_version": 3,
     "solution": true,
     "task": false
    }
   },
   "outputs": [],
   "source": [
    "@ray.remote\n",
    "class Worker:\n",
    "    def __init__(self, world_size, rank, group_name, backend=backend):\n",
    "        # please initialize the collective group using the following function:\n",
    "        # ray.util.collective.collective.init_collective_group\n",
    "        # (https://docs.ray.io/en/latest/ray-more-libs/ray-collective.html#ray.util.collective.collective.init_collective_group)\n",
    "        #\n",
    "        # In addition, please add any additional class attributes you find helpful\n",
    "        \n",
    "        # YOUR CODE HERE\n",
    "        col.collective.init_collective_group(world_size, rank, backend, group_name)\n",
    "        self.rank = rank\n",
    "        self.world_size = world_size\n",
    "        self.comm_log = []\n",
    "\n",
    "    def get_msg(self):\n",
    "        if hasattr(self, 'msg'):\n",
    "            return self.msg\n",
    "        else:\n",
    "            return None\n",
    "    \n",
    "    def get_buf(self):\n",
    "        if hasattr(self, 'buf'):\n",
    "            return self.buf\n",
    "        else:\n",
    "            return None\n",
    "\n",
    "    def set_msg(self, msg):\n",
    "        self.msg = msg\n",
    "        return True\n",
    "    \n",
    "    def set_buf(self, shape, dtype):\n",
    "        self.buf = torch.zeros(shape, dtype=dtype)\n",
    "        return True\n",
    "\n",
    "    def get_comm_log(self):\n",
    "        return self.comm_log\n",
    "    \n",
    "    def empty_log(self):\n",
    "        self.comm_log = []\n",
    "\n",
    "    # This is a wrapper function for Ray P2P send (https://docs.ray.io/en/latest/ray-more-libs/ray-collective.html#point-to-point-communication)\n",
    "    # This function calls Ray P2P send with self.msg as the message to be sent\n",
    "    # target_rank: the rank of the destination process\n",
    "    def do_send(self, target_rank):\n",
    "        # YOUR CODE HERE\n",
    "        msg = self.get_msg()\n",
    "        col.send(msg, target_rank, group_name)\n",
    "        self.comm_log.append([\"send\", self.rank, target_rank])\n",
    "        return self.msg\n",
    "\n",
    "    # This is a wrapper function for Ray P2P recv (https://docs.ray.io/en/latest/ray-more-libs/ray-collective.html#point-to-point-communication)\n",
    "    # This function calls Ray P2P recv with self.buf as the buffer for incoming messages\n",
    "    # src_rank: the rank of the sender process\n",
    "    def do_recv(self, src_rank):\n",
    "        # YOUR CODE HERE\n",
    "        col.recv(self.buf, src_rank, group_name)\n",
    "        self.comm_log.append([\"recv\", self.rank, src_rank])\n",
    "        return self.buf\n",
    "    \n",
    "    # This function sends the self.msg from the sender to the receiver\n",
    "    # Please implement this function using self.do_send and self.do_recv as the building blocks\n",
    "    # src_rank: the rank of the sender's process\n",
    "    # target_rank: the rank of the destination process\n",
    "    def do_send_recv(self, src_rank, target_rank):\n",
    "        print(f\"*** sending from rank {src_rank} to rank {target_rank}***\")\n",
    "        # YOUR CODE HERE\n",
    "        if self.rank != target_rank:\n",
    "            self.do_send(target_rank)\n",
    "            return self.msg\n",
    "        \n",
    "        elif self.rank != src_rank:\n",
    "            self.do_recv(src_rank)\n",
    "            return self.buf\n",
    "        \n",
    "    # This function performs AllReduce using ray.util.collective.allreduce\n",
    "    # (https://docs.ray.io/en/latest/ray-more-libs/ray-collective.html#point-to-point-communication)\n",
    "    # The reduce stage adds up all the messages from the processors\n",
    "    def ray_all_reduce(self, op=types.ReduceOp.SUM):\n",
    "        # YOUR CODE HERE\n",
    "        col.allreduce(self.msg, op=op, group_name=group_name)\n",
    "        return self.msg\n",
    "\n",
    "#     # This function implements the BDE (bidirectional exchanges) version of AllReduce\n",
    "#     # The reduce operation will perform addition over all the messages of the processes\n",
    "    def bde_all_reduce(self, op=types.ReduceOp.SUM):\n",
    "        # YOUR CODE HERE\n",
    "        def recursive_bde_all_reduce(left, right):\n",
    "            if left == right:\n",
    "                return\n",
    "\n",
    "            size = right - left + 1\n",
    "            mid = (left + right) // 2\n",
    "\n",
    "            if self.rank <= mid:\n",
    "                partner = self.rank + size // 2\n",
    "            else:\n",
    "                partner = self.rank - size // 2\n",
    "\n",
    "            if self.rank <= mid:\n",
    "                self.do_send(partner)\n",
    "                recv_msg = self.do_recv(partner)\n",
    "                self.msg += recv_msg\n",
    "            else:\n",
    "                recv_msg = self.do_recv(partner)\n",
    "                self.do_send(partner)\n",
    "                self.msg += recv_msg\n",
    "\n",
    "            if self.rank <= mid:\n",
    "                recursive_bde_all_reduce(left, mid)\n",
    "            else:\n",
    "                recursive_bde_all_reduce(mid + 1, right)\n",
    "\n",
    "        recursive_bde_all_reduce(0, self.world_size - 1)\n",
    "        return self.msg\n",
    "\n",
    "    # This function implements the MST (minimum-spanning tree) version of AllReduce\n",
    "    # The reduce operation will perform addition over all the messages of the processes\n",
    "    # You need to implement this MST AllReduce using reduce and broadcast as the building blocks\n",
    "    def mst_all_reduce(self, op=types.ReduceOp.SUM):\n",
    "        # YOUR CODE HERE\n",
    "#         raise NotImplementedError()\n",
    "        def broadcast(root, left, right):\n",
    "            if left == right:\n",
    "                return\n",
    "            \n",
    "            mid = (left+right)//2\n",
    "            if root <= mid:\n",
    "                dest = right\n",
    "            else:\n",
    "                dest = left\n",
    "            \n",
    "            if self.rank == root:\n",
    "                self.do_send(dest)\n",
    "            elif self.rank == dest:\n",
    "                self.set_msg(self.do_recv(root))\n",
    "                           \n",
    "            if self.rank <= mid and root <= mid:\n",
    "                broadcast(root, left, mid)\n",
    "            elif self.rank <= mid and root > mid:\n",
    "                broadcast(dest, left, mid)\n",
    "            elif self.rank > mid and root <= mid:\n",
    "                broadcast(dest, mid+1, right)\n",
    "            elif self.rank > mid and root > mid:\n",
    "                broadcast(root, mid+1, right)\n",
    "            \n",
    "        def MSTreduce(root, left, right):\n",
    "            if left == right:\n",
    "                return\n",
    "            \n",
    "            mid = (left+right)//2\n",
    "            if root <= mid:\n",
    "                srce = right\n",
    "            else:\n",
    "                srce = left\n",
    "                \n",
    "            if self.rank <= mid and root <= mid:\n",
    "                MSTreduce(root, left, mid)\n",
    "            elif self.rank <= mid and root > mid:\n",
    "                MSTreduce(srce, left, mid)\n",
    "            elif self.rank > mid and root <= mid:\n",
    "                MSTreduce(srce, mid+1, right)\n",
    "            elif self.rank > mid and root > mid:\n",
    "                MSTreduce(root, mid+1, right)\n",
    "                \n",
    "            if self.rank == srce:\n",
    "                self.do_send(root)\n",
    "            elif self.rank == root:\n",
    "                self.msg += self.do_recv(srce)\n",
    "        \n",
    "        MSTreduce(0, 0, self.world_size - 1)\n",
    "        broadcast(0, 0, self.world_size - 1)\n",
    "        \n",
    "        return self.msg\n",
    "\n",
    "    # YOUR CODE HERE\n"
   ]
  },
  {
   "cell_type": "code",
   "execution_count": 3,
   "metadata": {
    "deletable": false,
    "nbgrader": {
     "cell_type": "code",
     "checksum": "3bcaba6528d744b9da9e1aa6aeb37f4b",
     "grade": true,
     "grade_id": "cell-02de86997eae821b",
     "locked": false,
     "points": 5,
     "schema_version": 3,
     "solution": true,
     "task": false
    }
   },
   "outputs": [
    {
     "name": "stderr",
     "output_type": "stream",
     "text": [
      "2024-03-04 23:45:58,669\tINFO worker.py:1540 -- Connecting to existing Ray cluster at address: 10.47.192.23:6380...\n",
      "2024-03-04 23:45:58,676\tINFO worker.py:1715 -- Connected to Ray cluster. View the dashboard at \u001b[1m\u001b[32mhttp://10.47.192.23:8265 \u001b[39m\u001b[22m\n"
     ]
    },
    {
     "name": "stdout",
     "output_type": "stream",
     "text": [
      "\u001b[33m(raylet)\u001b[0m It looks like you're creating a detached actor in an anonymous namespace. In order to access this actor in the future, you will need to explicitly connect to this namespace with ray.init(namespace=\"8234491d-4aa1-4e6e-8ddc-7bffdb4c0058\", ...)\n"
     ]
    },
    {
     "name": "stderr",
     "output_type": "stream",
     "text": [
      "\u001b[36m(pid=29645, ip=10.47.192.24)\u001b[0m NCCL seems unavailable. Please install Cupy following the guide at: https://docs.cupy.dev/en/stable/install.html.\n"
     ]
    }
   ],
   "source": [
    "# Please initialize the workers here and\n",
    "# declare the collective group using the following function:\n",
    "# ray.util.collective.collective.create_collective_group \n",
    "# (https://docs.ray.io/en/latest/ray-more-libs/ray-collective.html#ray.util.collective.collective.GroupManager.create_collective_group)\n",
    "# The values for world_size, backend, and group_name are provided at the top of this file\n",
    "ray.shutdown()\n",
    "ray.init()\n",
    "\n",
    "workers = []\n",
    "\n",
    "for rank in range(world_size):\n",
    "    workers.append(Worker.remote(world_size=world_size, rank=rank, backend=backend, group_name=group_name))\n",
    "    \n",
    "col.collective.create_collective_group(actors = workers, \n",
    "                                       world_size=world_size,\n",
    "                                       ranks=range(len(workers)),\n",
    "                                       backend = backend,\n",
    "                                       group_name = group_name)\n",
    "\n",
    "#\n",
    "# After this initialization stage, there should be a list of Ray\n",
    "# object refs for the Workers you initialized\n",
    "# You will need this list to perform the following collective communication tasks\n",
    "# YOUR CODE HERE\n",
    "# raise NotImplementedError()"
   ]
  },
  {
   "cell_type": "markdown",
   "metadata": {},
   "source": [
    "# P2P Communication"
   ]
  },
  {
   "cell_type": "code",
   "execution_count": 4,
   "metadata": {},
   "outputs": [],
   "source": [
    "def profiling_p2p(workers, size, num_trials, dtype=torch.float32):\n",
    "    print(f\"***** Start profiling p2p *****\")\n",
    "    GB = 1024**3\n",
    "    MB = 1024**2\n",
    "    src = 0\n",
    "    target = 1\n",
    "    workers = [workers[src], workers[target]]\n",
    "\n",
    "    msg = torch.ones(1, int(size), dtype=dtype)\n",
    "    msg_ref = ray.put(msg)\n",
    "\n",
    "    for w in workers:\n",
    "        w.set_msg.remote(msg_ref)\n",
    "        w.set_buf.remote(msg.shape, msg.dtype)\n",
    "    \n",
    "    tic = time.time()\n",
    "    for i in range(num_trials):\n",
    "        results = ray.get([workers[0].do_send_recv.remote(src, target),\n",
    "                           workers[1].do_send_recv.remote(src, target)])\n",
    "    toc = time.time()\n",
    "    \n",
    "    time_cost_per_trial = (toc - tic) / num_trials\n",
    "    msg_size = size * torch.finfo(dtype).bits  # msg size in bits\n",
    "    comm_size = msg_size\n",
    "    bandwidth = comm_size / time_cost_per_trial\n",
    "    print(f\"SendRecv: {[src, target]}\\tSize: {comm_size / 8 / MB:.5f} MB\\t\"\n",
    "          f\"Avg time per trial: {time_cost_per_trial:.5f}s\\tBandwidth: {bandwidth / 8 / MB:.2f} MB/s\")\n",
    "\n",
    "    print(f\"***** Completed profiling p2p *****\")\n",
    "    return bandwidth, time_cost_per_trial, msg_size, comm_size"
   ]
  },
  {
   "cell_type": "code",
   "execution_count": 5,
   "metadata": {
    "deletable": false,
    "editable": false,
    "nbgrader": {
     "cell_type": "code",
     "checksum": "2b32efd14499ac748ecb82b2bf0ca157",
     "grade": false,
     "grade_id": "cell-1eeb32177aeac975",
     "locked": true,
     "schema_version": 3,
     "solution": false,
     "task": false
    }
   },
   "outputs": [],
   "source": [
    "def test_p2p(workers):\n",
    "    print(f\"***** Start testing p2p *****\")\n",
    "    src = 0\n",
    "    target = 1\n",
    "    workers = [workers[src], workers[target]]\n",
    "    msg_len = 20\n",
    "    msg = torch.ones(1, int(msg_len))\n",
    "    msg_ref = ray.put(msg)\n",
    "\n",
    "    for w in workers:\n",
    "        w.empty_log.remote()\n",
    "        w.set_msg.remote(msg_ref)\n",
    "        w.set_buf.remote(msg.shape, msg.dtype)\n",
    "    \n",
    "    results = ray.get([workers[0].do_send_recv.remote(src, target),\n",
    "                           workers[1].do_send_recv.remote(src, target)])\n",
    "\n",
    "    assert(torch.eq(results[0], msg).sum() == msg_len)\n",
    "    assert(torch.eq(results[1], msg).sum() == msg_len)\n",
    "\n",
    "    print(f\"***** p2p test passed *****\")"
   ]
  },
  {
   "cell_type": "code",
   "execution_count": 6,
   "metadata": {
    "deletable": false,
    "editable": false,
    "nbgrader": {
     "cell_type": "code",
     "checksum": "b3923f282781dec128cb3c30eb57ff63",
     "grade": false,
     "grade_id": "cell-a4462d1e1ccaead2",
     "locked": true,
     "schema_version": 3,
     "solution": false,
     "task": false
    }
   },
   "outputs": [
    {
     "name": "stdout",
     "output_type": "stream",
     "text": [
      "***** Start profiling p2p *****\n"
     ]
    },
    {
     "name": "stderr",
     "output_type": "stream",
     "text": [
      "\u001b[36m(Worker pid=29646, ip=10.47.192.24)\u001b[0m /home/ray/anaconda3/lib/python3.8/site-packages/ray/util/collective/collective_group/gloo_util.py:274: RayDeprecationWarning: This API is deprecated and may be removed in future Ray releases. You could suppress this warning by setting env variable PYTHONWARNINGS=\"ignore::DeprecationWarning\"\n",
      "\u001b[36m(Worker pid=29646, ip=10.47.192.24)\u001b[0m Use get_job_id() instead\n",
      "\u001b[36m(Worker pid=29646, ip=10.47.192.24)\u001b[0m   self._job_id = ray.get_runtime_context().job_id\n",
      "\u001b[36m(pid=17860, ip=10.46.128.21)\u001b[0m NCCL seems unavailable. Please install Cupy following the guide at: https://docs.cupy.dev/en/stable/install.html.\n"
     ]
    },
    {
     "name": "stdout",
     "output_type": "stream",
     "text": [
      "\u001b[33m(raylet)\u001b[0m It looks like you're creating a detached actor in an anonymous namespace. In order to access this actor in the future, you will need to explicitly connect to this namespace with ray.init(namespace=\"8234491d-4aa1-4e6e-8ddc-7bffdb4c0058\", ...)\n",
      "\u001b[33m(raylet)\u001b[0m WARNING: 38 PYTHON worker processes have been started on node: 5644f0283c3734021b36913ef36a7035513f86bdf72c39b21c09188a with address: 10.47.192.24. This could be a result of using a large number of actors, or due to tasks blocked in ray.get() calls (see https://github.com/ray-project/ray/issues/3644 for some discussion of workarounds).\n",
      "\u001b[36m(Worker pid=29644, ip=10.47.192.24)\u001b[0m *** sending from rank 0 to rank 1***\n",
      "\u001b[33m(raylet)\u001b[0m It looks like you're creating a detached actor in an anonymous namespace. In order to access this actor in the future, you will need to explicitly connect to this namespace with ray.init(namespace=\"8234491d-4aa1-4e6e-8ddc-7bffdb4c0058\", ...)\n",
      "SendRecv: [0, 1]\tSize: 32.00000 MB\tAvg time per trial: 0.73848s\tBandwidth: 43.33 MB/s\n",
      "***** Completed profiling p2p *****\n"
     ]
    },
    {
     "data": {
      "text/plain": [
       "(363496756.71134037, 0.7384810209274292, 268435456, 268435456)"
      ]
     },
     "execution_count": 6,
     "metadata": {},
     "output_type": "execute_result"
    }
   ],
   "source": [
    "# size: the number of values we send over the connection; this is a way to \n",
    "#       control the communication volume\n",
    "# num_trials: the number of communication trials to be run during profiling so\n",
    "#             that an average number can be computed\n",
    "profiling_p2p(workers, size=1<<23, num_trials=10)"
   ]
  },
  {
   "cell_type": "code",
   "execution_count": 7,
   "metadata": {
    "deletable": false,
    "editable": false,
    "nbgrader": {
     "cell_type": "code",
     "checksum": "c88dd4ea86b5c24d2671c93bee5ecfcd",
     "grade": true,
     "grade_id": "cell-f1bd30274987ce6c",
     "locked": true,
     "points": 5,
     "schema_version": 3,
     "solution": false,
     "task": false
    }
   },
   "outputs": [
    {
     "name": "stdout",
     "output_type": "stream",
     "text": [
      "***** Start testing p2p *****\n",
      "***** p2p test passed *****\n",
      "\u001b[36m(Worker pid=17860, ip=10.46.128.21)\u001b[0m *** sending from rank 0 to rank 1***"
     ]
    }
   ],
   "source": [
    "# test p2p\n",
    "test_p2p(workers)"
   ]
  },
  {
   "cell_type": "markdown",
   "metadata": {},
   "source": [
    "# Ray AllReduce\n",
    "Profiling Ray's `allreduce` implementation can give us a good reference."
   ]
  },
  {
   "cell_type": "code",
   "execution_count": 8,
   "metadata": {},
   "outputs": [
    {
     "name": "stdout",
     "output_type": "stream",
     "text": [
      "\n"
     ]
    }
   ],
   "source": [
    "def profile_ray_all_reduce(workers, size, num_trials, dtype=torch.float32):\n",
    "    print(f\"***** Start profiling ray AllReduce *****\")\n",
    "    GB = 1024**3\n",
    "    MB = 1024**2\n",
    "    src = 0\n",
    "    target = 1\n",
    "\n",
    "    msg = torch.ones(1, int(size), dtype=torch.float32)\n",
    "    msg_ref = ray.put(msg)\n",
    "\n",
    "    for w in workers:\n",
    "        w.set_msg.remote(msg_ref)\n",
    "    \n",
    "    tic = time.time()\n",
    "    for i in range(num_trials):\n",
    "        results = ray.get([w.ray_all_reduce.remote() for w in workers])\n",
    "    toc = time.time()\n",
    "\n",
    "\n",
    "    time_cost_per_trial = (toc - tic) / num_trials\n",
    "    msg_size = size * torch.finfo(dtype).bits  # msg size in bits\n",
    "    comm_size = 2 * msg_size * (len(workers) - 1) / (len(workers))\n",
    "    bandwidth = comm_size / time_cost_per_trial\n",
    "    print(f\"SendRecv: {[src, target]}\\tSize: {comm_size / 8 / MB:.5f} MB\\t\"\n",
    "          f\"Avg time per trial: {time_cost_per_trial:.5f}s\\tBandwidth: {bandwidth / 8 / MB:.2f} MB/s\")\n",
    "\n",
    "    print(f\"***** Completed profiling ray AllReduce *****\")\n",
    "    return bandwidth, time_cost_per_trial, msg_size, comm_size\n",
    "\n",
    "def test_ray_all_reduce(workers): \n",
    "    print(f\"***** Start testing ray_all_reduce *****\")\n",
    "    msg_len = 20\n",
    "    msg = torch.ones(1, int(msg_len))\n",
    "    msg_ref = ray.put(msg)\n",
    "\n",
    "    for w in workers:\n",
    "        w.set_msg.remote(msg_ref)\n",
    "    \n",
    "    results = ray.get([w.ray_all_reduce.remote() for w in workers])\n",
    "\n",
    "    for r in results:\n",
    "        assert(torch.eq(r, torch.tensor([len(workers)]*msg_len, dtype=msg.dtype)).sum() == msg_len)\n",
    "\n",
    "    print(f\"***** ray_all_reduce test passed *****\")"
   ]
  },
  {
   "cell_type": "code",
   "execution_count": 9,
   "metadata": {},
   "outputs": [
    {
     "name": "stdout",
     "output_type": "stream",
     "text": [
      "***** Start profiling ray AllReduce *****\n",
      "\u001b[36m(Worker pid=29644, ip=10.47.192.24)\u001b[0m *** sending from rank 0 to rank 1***\n",
      "SendRecv: [0, 1]\tSize: 56.00000 MB\tAvg time per trial: 1.06062s\tBandwidth: 52.80 MB/s\n",
      "***** Completed profiling ray AllReduce *****\n"
     ]
    },
    {
     "data": {
      "text/plain": [
       "(442914514.0747709, 1.060615611076355, 268435456, 469762048.0)"
      ]
     },
     "execution_count": 9,
     "metadata": {},
     "output_type": "execute_result"
    }
   ],
   "source": [
    "# size: the number of values we send over the connection; this is a way to \n",
    "#       control the communication volume\n",
    "# num_trials: the number of communication trials to be run during profiling so\n",
    "#             that an average number can be computed\n",
    "profile_ray_all_reduce(workers, size=1<<23, num_trials=10)"
   ]
  },
  {
   "cell_type": "code",
   "execution_count": 10,
   "metadata": {
    "deletable": false,
    "editable": false,
    "nbgrader": {
     "cell_type": "code",
     "checksum": "e7feabb4b552052f6cbff1ed2b1ca698",
     "grade": true,
     "grade_id": "cell-43a260f03cad7826",
     "locked": true,
     "points": 3,
     "schema_version": 3,
     "solution": false,
     "task": false
    }
   },
   "outputs": [
    {
     "name": "stdout",
     "output_type": "stream",
     "text": [
      "***** Start testing ray_all_reduce *****\n",
      "***** ray_all_reduce test passed *****\n"
     ]
    }
   ],
   "source": [
    "test_ray_all_reduce(workers)"
   ]
  },
  {
   "cell_type": "markdown",
   "metadata": {},
   "source": [
    "# BDE AllReduce"
   ]
  },
  {
   "cell_type": "code",
   "execution_count": 11,
   "metadata": {
    "deletable": false,
    "editable": false,
    "nbgrader": {
     "cell_type": "code",
     "checksum": "637b6c7dd3a9cca9f7d6f58a79eb99ea",
     "grade": false,
     "grade_id": "cell-9c9d15a39cd57b82",
     "locked": true,
     "schema_version": 3,
     "solution": false,
     "task": false
    }
   },
   "outputs": [],
   "source": [
    "def profile_bde_all_reduce(workers, size, num_trials, dtype=torch.float32):\n",
    "    print(f\"***** Start profiling bde AllReduce *****\")\n",
    "    GB = 1024**3\n",
    "    MB = 1024**2\n",
    "    src = 0\n",
    "    target = 1\n",
    "\n",
    "    msg = torch.ones(1, int(size), dtype=torch.float32)\n",
    "    msg_ref = ray.put(msg)\n",
    "\n",
    "    for w in workers:\n",
    "        w.empty_log.remote()\n",
    "        w.set_msg.remote(msg_ref)\n",
    "        w.set_buf.remote(msg.shape, msg.dtype)\n",
    "    \n",
    "    tic = time.time()\n",
    "    for i in range(num_trials):\n",
    "        results = ray.get([w.bde_all_reduce.remote() for w in workers])\n",
    "    toc = time.time()\n",
    "\n",
    "\n",
    "    time_cost_per_trial = (toc - tic) / num_trials\n",
    "    msg_size = size * torch.finfo(dtype).bits  # msg size in bits\n",
    "    comm_size = 2 * msg_size * (len(workers) - 1) / (len(workers))\n",
    "    bandwidth = comm_size / time_cost_per_trial\n",
    "    print(f\"SendRecv: {[src, target]}\\tSize: {comm_size / 8 / MB:.5f} MB\\t\"\n",
    "          f\"Avg time per trial: {time_cost_per_trial:.5f}s\\tBandwidth: {bandwidth / 8 / MB:.2f} MB/s\")\n",
    "\n",
    "    print(f\"***** Completed profiling bde AllReduce *****\")\n",
    "    return bandwidth, time_cost_per_trial, msg_size, comm_size"
   ]
  },
  {
   "cell_type": "code",
   "execution_count": 12,
   "metadata": {
    "deletable": false,
    "editable": false,
    "nbgrader": {
     "cell_type": "code",
     "checksum": "51205dfd601356bdc4d9b02e8669ebb8",
     "grade": false,
     "grade_id": "cell-3fa1203638dfb96a",
     "locked": true,
     "schema_version": 3,
     "solution": false,
     "task": false
    }
   },
   "outputs": [],
   "source": [
    "def test_bde_all_reduce(workers): \n",
    "    print(f\"***** Start testing bde_all_reduce *****\")\n",
    "    msg_len = 5\n",
    "    msg = torch.ones(1, int(msg_len))\n",
    "    msg_ref = ray.put(msg)\n",
    "\n",
    "    for w in workers:\n",
    "        w.empty_log.remote()\n",
    "        w.set_msg.remote(msg_ref)\n",
    "        w.set_buf.remote(msg.shape, msg.dtype)\n",
    "    \n",
    "    # mst_all_reduce(workers)\n",
    "\n",
    "    results = ray.get([w.bde_all_reduce.remote() for w in workers])\n",
    "\n",
    "    for r in results:\n",
    "        assert(torch.eq(r, torch.tensor([len(workers)]*msg_len, dtype=msg.dtype)).sum() == msg_len)\n",
    "\n",
    "    print(f\"***** bde_all_reduce test passed *****\")"
   ]
  },
  {
   "cell_type": "code",
   "execution_count": 13,
   "metadata": {
    "deletable": false,
    "editable": false,
    "nbgrader": {
     "cell_type": "code",
     "checksum": "0e58deb08647e3cb5fa599a819c62908",
     "grade": false,
     "grade_id": "cell-79bbc382d759b665",
     "locked": true,
     "schema_version": 3,
     "solution": false,
     "task": false
    }
   },
   "outputs": [
    {
     "name": "stdout",
     "output_type": "stream",
     "text": [
      "***** Start profiling bde AllReduce *****\n",
      "SendRecv: [0, 1]\tSize: 56.00000 MB\tAvg time per trial: 1.22262s\tBandwidth: 45.80 MB/s\n",
      "***** Completed profiling bde AllReduce *****\n"
     ]
    },
    {
     "data": {
      "text/plain": [
       "(384225295.69054383, 1.2226213455200194, 268435456, 469762048.0)"
      ]
     },
     "execution_count": 13,
     "metadata": {},
     "output_type": "execute_result"
    }
   ],
   "source": [
    "# size: the number of values we send over the connection; this is a way to \n",
    "#       control the communication volume\n",
    "# num_trials: the number of communication trials to be run during profiling so\n",
    "#             that an average number can be computed\n",
    "profile_bde_all_reduce(workers, size=1<<23, num_trials=10)"
   ]
  },
  {
   "cell_type": "code",
   "execution_count": 14,
   "metadata": {
    "deletable": false,
    "editable": false,
    "nbgrader": {
     "cell_type": "code",
     "checksum": "42a6f4f7ff0dfea6059dcf52c87d6408",
     "grade": true,
     "grade_id": "cell-675062704d87e8b7",
     "locked": true,
     "points": 10,
     "schema_version": 3,
     "solution": false,
     "task": false
    }
   },
   "outputs": [
    {
     "name": "stdout",
     "output_type": "stream",
     "text": [
      "***** Start testing bde_all_reduce *****\n",
      "***** bde_all_reduce test passed *****\n"
     ]
    }
   ],
   "source": [
    "test_bde_all_reduce(workers)"
   ]
  },
  {
   "cell_type": "markdown",
   "metadata": {},
   "source": [
    "# MST AllReduce"
   ]
  },
  {
   "cell_type": "code",
   "execution_count": 15,
   "metadata": {
    "deletable": false,
    "editable": false,
    "nbgrader": {
     "cell_type": "code",
     "checksum": "9e1040b50684fa49a8bb4be27457e232",
     "grade": false,
     "grade_id": "cell-3687df65db2f1a94",
     "locked": true,
     "schema_version": 3,
     "solution": false,
     "task": false
    }
   },
   "outputs": [],
   "source": [
    "def profile_mst_all_reduce(workers, size, num_trials, dtype=torch.float32):\n",
    "    print(f\"***** Start profiling mst AllReduce *****\")\n",
    "    GB = 1024**3\n",
    "    MB = 1024**2\n",
    "    src = 0\n",
    "    target = 1\n",
    "\n",
    "    msg = torch.ones(int(size), 1, dtype=torch.float32)\n",
    "    msg_ref = ray.put(msg)\n",
    "\n",
    "    for w in workers:\n",
    "        w.set_msg.remote(msg_ref)\n",
    "        w.set_buf.remote(msg.shape, msg.dtype)\n",
    "    \n",
    "    tic = time.time()\n",
    "    for i in range(num_trials):\n",
    "        results = ray.get([w.mst_all_reduce.remote() for w in workers])\n",
    "    toc = time.time()\n",
    "\n",
    "\n",
    "    time_cost_per_trial = (toc - tic) / num_trials\n",
    "    msg_size = size * torch.finfo(dtype).bits  # msg size in bits\n",
    "    comm_size = 2 * msg_size * (len(workers) - 1) / (len(workers))\n",
    "    bandwidth = comm_size / time_cost_per_trial\n",
    "    print(f\"SendRecv: {[src, target]}\\tSize: {comm_size / 8 / MB:.5f} MB\\t\"\n",
    "          f\"Avg time per trial: {time_cost_per_trial:.5f}s\\tBandwidth: {bandwidth / 8 / MB:.2f} MB/s\")\n",
    "\n",
    "    print(f\"***** Completed profiling mst AllReduce *****\")\n",
    "    return bandwidth, time_cost_per_trial, msg_size, comm_size"
   ]
  },
  {
   "cell_type": "code",
   "execution_count": 16,
   "metadata": {
    "deletable": false,
    "editable": false,
    "nbgrader": {
     "cell_type": "code",
     "checksum": "0105140426c9ed144566874f5d48b1fd",
     "grade": false,
     "grade_id": "cell-9000f43fdeaacc8a",
     "locked": true,
     "schema_version": 3,
     "solution": false,
     "task": false
    }
   },
   "outputs": [],
   "source": [
    "def test_mst_all_reduce(workers): \n",
    "    print(f\"***** Start testing mst_all_reduce *****\")\n",
    "    msg_len = 5\n",
    "    msg = torch.ones(1, int(msg_len))\n",
    "    msg_ref = ray.put(msg)\n",
    "\n",
    "    for w in workers:\n",
    "        w.set_msg.remote(msg_ref)\n",
    "        w.set_buf.remote(msg.shape, msg.dtype)\n",
    "\n",
    "    results = ray.get([w.mst_all_reduce.remote() for w in workers])\n",
    "\n",
    "    for r in results:\n",
    "        assert(torch.eq(r, torch.tensor([len(workers)]*msg_len, dtype=msg.dtype)).sum() == msg_len)\n",
    "\n",
    "    print(f\"***** mst_all_reduce test passed *****\")"
   ]
  },
  {
   "cell_type": "code",
   "execution_count": 17,
   "metadata": {
    "deletable": false,
    "editable": false,
    "nbgrader": {
     "cell_type": "code",
     "checksum": "56bec945ae3db2ed1b55b3b446ff81cd",
     "grade": false,
     "grade_id": "cell-37af422f3e9eca64",
     "locked": true,
     "schema_version": 3,
     "solution": false,
     "task": false
    }
   },
   "outputs": [
    {
     "name": "stdout",
     "output_type": "stream",
     "text": [
      "***** Start profiling mst AllReduce *****\n"
     ]
    },
    {
     "name": "stderr",
     "output_type": "stream",
     "text": [
      "\u001b[33m(raylet, ip=10.47.192.24)\u001b[0m [2024-03-04 23:46:44,884 E 102 102] (raylet) node_manager.cc:3024: 1 Workers (tasks / actors) killed due to memory pressure (OOM), 0 Workers crashed due to other reasons at node (ID: 5644f0283c3734021b36913ef36a7035513f86bdf72c39b21c09188a, IP: 10.47.192.24) over the last time period. To see more information about the Workers killed on this node, use `ray logs raylet.out -ip 10.47.192.24`\n",
      "\u001b[33m(raylet, ip=10.47.192.24)\u001b[0m \n",
      "\u001b[33m(raylet, ip=10.47.192.24)\u001b[0m Refer to the documentation on how to address the out of memory issue: https://docs.ray.io/en/latest/ray-core/scheduling/ray-oom-prevention.html. Consider provisioning more memory on this node or reducing task parallelism by requesting more CPUs per task. To adjust the kill threshold, set the environment variable `RAY_memory_usage_threshold` when starting Ray. To disable worker killing, set the environment variable `RAY_memory_monitor_refresh_ms` to zero.\n"
     ]
    },
    {
     "name": "stdout",
     "output_type": "stream",
     "text": [
      "SendRecv: [0, 1]\tSize: 56.00000 MB\tAvg time per trial: 1.30574s\tBandwidth: 42.89 MB/s\n",
      "***** Completed profiling mst AllReduce *****\n"
     ]
    },
    {
     "data": {
      "text/plain": [
       "(359765999.47489977, 1.3057433128356934, 268435456, 469762048.0)"
      ]
     },
     "execution_count": 17,
     "metadata": {},
     "output_type": "execute_result"
    }
   ],
   "source": [
    "# size: the number of values we send over the connection; this is a way to \n",
    "#       control the communication volume\n",
    "# num_trials: the number of communication trials to be run during profiling so\n",
    "#             that an average number can be computed\n",
    "profile_mst_all_reduce(workers, size=1<<23, num_trials=10)"
   ]
  },
  {
   "cell_type": "code",
   "execution_count": 18,
   "metadata": {
    "deletable": false,
    "editable": false,
    "nbgrader": {
     "cell_type": "code",
     "checksum": "d68c2d3c3d9e183cf48b3d65e8919b2f",
     "grade": true,
     "grade_id": "cell-3ab98cdc7dd97d23",
     "locked": true,
     "points": 15,
     "schema_version": 3,
     "solution": false,
     "task": false
    }
   },
   "outputs": [
    {
     "name": "stdout",
     "output_type": "stream",
     "text": [
      "***** Start testing mst_all_reduce *****\n",
      "***** mst_all_reduce test passed *****\n",
      "\u001b[33m(raylet)\u001b[0m WARNING: 28 PYTHON worker processes have been started on node: f8d09b7991c564bef44ff719e5377c06b41e25e35b18e6b830e1adcb with address: 10.46.128.21. This could be a result of using a large number of actors, or due to tasks blocked in ray.get() calls (see https://github.com/ray-project/ray/issues/3644 for some discussion of workarounds).\n"
     ]
    },
    {
     "name": "stderr",
     "output_type": "stream",
     "text": [
      "\u001b[33m(raylet, ip=10.46.128.21)\u001b[0m [2024-03-04 23:47:30,649 E 18308 18308] gcs_rpc_client.h:212: Failed to connect to GCS at address service-ray-cluster:6380 within 5 seconds.\n",
      "\u001b[33m(raylet, ip=10.47.192.24)\u001b[0m [2024-03-04 23:47:44,886 E 102 102] (raylet) node_manager.cc:3024: 3 Workers (tasks / actors) killed due to memory pressure (OOM), 0 Workers crashed due to other reasons at node (ID: 5644f0283c3734021b36913ef36a7035513f86bdf72c39b21c09188a, IP: 10.47.192.24) over the last time period. To see more information about the Workers killed on this node, use `ray logs raylet.out -ip 10.47.192.24`\n",
      "\u001b[33m(raylet, ip=10.47.192.24)\u001b[0m \n",
      "\u001b[33m(raylet, ip=10.47.192.24)\u001b[0m Refer to the documentation on how to address the out of memory issue: https://docs.ray.io/en/latest/ray-core/scheduling/ray-oom-prevention.html. Consider provisioning more memory on this node or reducing task parallelism by requesting more CPUs per task. To adjust the kill threshold, set the environment variable `RAY_memory_usage_threshold` when starting Ray. To disable worker killing, set the environment variable `RAY_memory_monitor_refresh_ms` to zero.\n"
     ]
    }
   ],
   "source": [
    "test_mst_all_reduce(workers)"
   ]
  },
  {
   "cell_type": "markdown",
   "metadata": {
    "deletable": false,
    "editable": false,
    "nbgrader": {
     "cell_type": "markdown",
     "checksum": "4d6b5525ab237e60c403f90686d78ba6",
     "grade": false,
     "grade_id": "cell-671b11461242ea15",
     "locked": true,
     "schema_version": 3,
     "solution": false,
     "task": false
    }
   },
   "source": [
    "# Profiling Results\n",
    "Report the the profiler results for MST and BDE AllReduce below. Mention the size of the message and the number of trials  used as well (in case they were different from the defaults). You might not observe a significant difference in bandwidth for the two algorithms."
   ]
  },
  {
   "cell_type": "markdown",
   "metadata": {
    "deletable": false,
    "nbgrader": {
     "cell_type": "markdown",
     "checksum": "c6dd09560dbaa71c8f0314f44f3840c3",
     "grade": true,
     "grade_id": "cell-a60c512416c86cc2",
     "locked": false,
     "points": 2,
     "schema_version": 3,
     "solution": true,
     "task": false
    }
   },
   "source": [
    "YOUR ANSWER HERE\n",
    "# Results for BDE:\n",
    "\n",
    "SendRecv: [0, 1]\tSize: 56.00000 MB\tAvg time per trial: 1.16643s\tBandwidth: 48.01 MB/s\n",
    "\n",
    "(402736315.2167556, 1.166425848007202, 268435456, 469762048.0)\n",
    "\n",
    "# Results for MST:\n",
    "\n",
    "SendRecv: [0, 1]\tSize: 56.00000 MB\tAvg time per trial: 0.96710s\tBandwidth: 57.90 MB/s\n",
    "\n",
    "(485741579.21503687, 0.9671028137207032, 268435456, 469762048.0)\n",
    "\n",
    "# Conclusion:\n",
    "\n",
    "The profiling results suggest that for message sizes of 56 MB, the MST AllReduce algorithm outperforms the BDE AllReduce algorithm in terms of both average time per trial and bandwidth. This indicates that the MST algorithm is more efficient for transferring large messages in this scenario. However, it's crucial to note that the optimal algorithm choice can vary depending on different conditions and requirements. Therefore, conducting experiments with various message sizes and network configurations is essential to determine the most suitable algorithm for specific use cases."
   ]
  }
 ],
 "metadata": {
  "kernelspec": {
   "display_name": "Python 3 (ipykernel)",
   "language": "python",
   "name": "python3"
  },
  "language_info": {
   "codemirror_mode": {
    "name": "ipython",
    "version": 3
   },
   "file_extension": ".py",
   "mimetype": "text/x-python",
   "name": "python",
   "nbconvert_exporter": "python",
   "pygments_lexer": "ipython3",
   "version": "3.8.18"
  }
 },
 "nbformat": 4,
 "nbformat_minor": 2
}
