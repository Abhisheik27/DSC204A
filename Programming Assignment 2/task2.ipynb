{
 "cells": [
  {
   "cell_type": "markdown",
   "metadata": {},
   "source": [
    "# Task 2: MapReduce with Ray Actors\n",
    "\n",
    "This is a simple task of running MapReduce with Ray actors. For reference, you can use the implementation of MapReduce with Ray tasks [here](https://github.com/maxpumperla/learning_ray/blob/main/notebooks/ch_02_ray_core.ipynb) (Make sure to scroll to the end of the notebook).\n",
    "\n",
    "The task is to use MapReduce to count the number of occurrences for each word in a block of text. We'll be using a `Mapper` and `Reducer` actor. Implement the MapReduce algorithm in the following way - \n",
    "  -  You will employ Mappers equivalent to the count of `NUM_CPUS` workers in your Ray cluster, and segment the text into partitions to evenly distribute the workload among the workers. \n",
    "  - You will then assign these partitions to each Mapper, and compute the word counts on partitions assigned to them using `.map`\n",
    "  - Once the counts are computed by the Mappers, you will use `.reduce` from your `Reducer` to combine the results from all partitions\n"
   ]
  },
  {
   "cell_type": "code",
   "execution_count": 2,
   "metadata": {
    "deletable": false,
    "editable": false,
    "nbgrader": {
     "cell_type": "code",
     "checksum": "a03b4fa577a1b0e4eb6f360d0dae035d",
     "grade": false,
     "grade_id": "cell-4c4653f9a21ef2c1",
     "locked": true,
     "schema_version": 3,
     "solution": false,
     "task": false
    }
   },
   "outputs": [
    {
     "name": "stderr",
     "output_type": "stream",
     "text": [
      "2024-03-04 11:02:40,125\tINFO util.py:154 -- Outdated packages:\n",
      "  ipywidgets==7.8.1 found, needs ipywidgets>=8\n",
      "Run `pip install -U ipywidgets`, then restart the notebook server for rich notebook output.\n",
      "2024-03-04 11:02:40,142\tINFO worker.py:1540 -- Connecting to existing Ray cluster at address: 10.47.192.23:6380...\n",
      "2024-03-04 11:02:40,194\tINFO worker.py:1715 -- Connected to Ray cluster. View the dashboard at \u001b[1m\u001b[32mhttp://10.47.192.23:8265 \u001b[39m\u001b[22m\n"
     ]
    },
    {
     "data": {
      "text/html": [
       "<div class=\"lm-Widget p-Widget lm-Panel p-Panel jp-Cell-outputWrapper\">\n",
       "    <div style=\"margin-left: 50px;display: flex;flex-direction: row;align-items: center\">\n",
       "        <div class=\"jp-RenderedHTMLCommon\" style=\"display: flex; flex-direction: row;\">\n",
       "  <svg viewBox=\"0 0 567 224\" fill=\"none\" xmlns=\"http://www.w3.org/2000/svg\" style=\"height: 3em;\">\n",
       "    <g clip-path=\"url(#clip0_4338_178347)\">\n",
       "        <path d=\"M341.29 165.561H355.29L330.13 129.051C345.63 123.991 354.21 112.051 354.21 94.2307C354.21 71.3707 338.72 58.1807 311.88 58.1807H271V165.561H283.27V131.661H311.8C314.25 131.661 316.71 131.501 319.01 131.351L341.25 165.561H341.29ZM283.29 119.851V70.0007H311.82C331.3 70.0007 342.34 78.2907 342.34 94.5507C342.34 111.271 331.34 119.861 311.82 119.861L283.29 119.851ZM451.4 138.411L463.4 165.561H476.74L428.74 58.1807H416L367.83 165.561H380.83L392.83 138.411H451.4ZM446.19 126.601H398L422 72.1407L446.24 126.601H446.19ZM526.11 128.741L566.91 58.1807H554.35L519.99 114.181L485.17 58.1807H472.44L514.01 129.181V165.541H526.13V128.741H526.11Z\" fill=\"var(--jp-ui-font-color0)\"/>\n",
       "        <path d=\"M82.35 104.44C84.0187 97.8827 87.8248 92.0678 93.1671 87.9146C98.5094 83.7614 105.083 81.5067 111.85 81.5067C118.617 81.5067 125.191 83.7614 130.533 87.9146C135.875 92.0678 139.681 97.8827 141.35 104.44H163.75C164.476 101.562 165.622 98.8057 167.15 96.2605L127.45 56.5605C121.071 60.3522 113.526 61.6823 106.235 60.3005C98.9443 58.9187 92.4094 54.9203 87.8602 49.0574C83.3109 43.1946 81.0609 35.8714 81.5332 28.4656C82.0056 21.0599 85.1679 14.0819 90.4252 8.8446C95.6824 3.60726 102.672 0.471508 110.08 0.0272655C117.487 -0.416977 124.802 1.86091 130.647 6.4324C136.493 11.0039 140.467 17.5539 141.821 24.8501C143.175 32.1463 141.816 39.6859 138 46.0505L177.69 85.7505C182.31 82.9877 187.58 81.4995 192.962 81.4375C198.345 81.3755 203.648 82.742 208.33 85.3976C213.012 88.0532 216.907 91.9029 219.616 96.5544C222.326 101.206 223.753 106.492 223.753 111.875C223.753 117.258 222.326 122.545 219.616 127.197C216.907 131.848 213.012 135.698 208.33 138.353C203.648 141.009 198.345 142.375 192.962 142.313C187.58 142.251 182.31 140.763 177.69 138L138 177.7C141.808 184.071 143.155 191.614 141.79 198.91C140.424 206.205 136.44 212.75 130.585 217.313C124.731 221.875 117.412 224.141 110.004 223.683C102.596 223.226 95.6103 220.077 90.3621 214.828C85.1139 209.58 81.9647 202.595 81.5072 195.187C81.0497 187.779 83.3154 180.459 87.878 174.605C92.4405 168.751 98.9853 164.766 106.281 163.401C113.576 162.035 121.119 163.383 127.49 167.19L167.19 127.49C165.664 124.941 164.518 122.182 163.79 119.3H141.39C139.721 125.858 135.915 131.673 130.573 135.826C125.231 139.98 118.657 142.234 111.89 142.234C105.123 142.234 98.5494 139.98 93.2071 135.826C87.8648 131.673 84.0587 125.858 82.39 119.3H60C58.1878 126.495 53.8086 132.78 47.6863 136.971C41.5641 141.163 34.1211 142.972 26.7579 142.059C19.3947 141.146 12.6191 137.574 7.70605 132.014C2.79302 126.454 0.0813599 119.29 0.0813599 111.87C0.0813599 104.451 2.79302 97.2871 7.70605 91.7272C12.6191 86.1673 19.3947 82.5947 26.7579 81.6817C34.1211 80.7686 41.5641 82.5781 47.6863 86.7696C53.8086 90.9611 58.1878 97.2456 60 104.44H82.35ZM100.86 204.32C103.407 206.868 106.759 208.453 110.345 208.806C113.93 209.159 117.527 208.258 120.522 206.256C123.517 204.254 125.725 201.276 126.771 197.828C127.816 194.38 127.633 190.677 126.253 187.349C124.874 184.021 122.383 181.274 119.205 179.577C116.027 177.88 112.359 177.337 108.826 178.042C105.293 178.746 102.113 180.654 99.8291 183.44C97.5451 186.226 96.2979 189.718 96.3 193.32C96.2985 195.364 96.7006 197.388 97.4831 199.275C98.2656 201.163 99.4132 202.877 100.86 204.32ZM204.32 122.88C206.868 120.333 208.453 116.981 208.806 113.396C209.159 109.811 208.258 106.214 206.256 103.219C204.254 100.223 201.275 98.0151 197.827 96.97C194.38 95.9249 190.676 96.1077 187.348 97.4873C184.02 98.8669 181.274 101.358 179.577 104.536C177.879 107.714 177.337 111.382 178.041 114.915C178.746 118.448 180.653 121.627 183.439 123.911C186.226 126.195 189.717 127.443 193.32 127.44C195.364 127.443 197.388 127.042 199.275 126.259C201.163 125.476 202.878 124.328 204.32 122.88ZM122.88 19.4205C120.333 16.8729 116.981 15.2876 113.395 14.9347C109.81 14.5817 106.213 15.483 103.218 17.4849C100.223 19.4868 98.0146 22.4654 96.9696 25.9131C95.9245 29.3608 96.1073 33.0642 97.4869 36.3922C98.8665 39.7202 101.358 42.4668 104.535 44.1639C107.713 45.861 111.381 46.4036 114.914 45.6992C118.447 44.9949 121.627 43.0871 123.911 40.301C126.195 37.515 127.442 34.0231 127.44 30.4205C127.44 28.3772 127.038 26.3539 126.255 24.4664C125.473 22.5788 124.326 20.8642 122.88 19.4205ZM19.42 100.86C16.8725 103.408 15.2872 106.76 14.9342 110.345C14.5813 113.93 15.4826 117.527 17.4844 120.522C19.4863 123.518 22.4649 125.726 25.9127 126.771C29.3604 127.816 33.0638 127.633 36.3918 126.254C39.7198 124.874 42.4664 122.383 44.1635 119.205C45.8606 116.027 46.4032 112.359 45.6988 108.826C44.9944 105.293 43.0866 102.114 40.3006 99.8296C37.5145 97.5455 34.0227 96.2983 30.42 96.3005C26.2938 96.3018 22.337 97.9421 19.42 100.86ZM100.86 100.86C98.3125 103.408 96.7272 106.76 96.3742 110.345C96.0213 113.93 96.9226 117.527 98.9244 120.522C100.926 123.518 103.905 125.726 107.353 126.771C110.8 127.816 114.504 127.633 117.832 126.254C121.16 124.874 123.906 122.383 125.604 119.205C127.301 116.027 127.843 112.359 127.139 108.826C126.434 105.293 124.527 102.114 121.741 99.8296C118.955 97.5455 115.463 96.2983 111.86 96.3005C109.817 96.299 107.793 96.701 105.905 97.4835C104.018 98.2661 102.303 99.4136 100.86 100.86Z\" fill=\"#00AEEF\"/>\n",
       "    </g>\n",
       "    <defs>\n",
       "        <clipPath id=\"clip0_4338_178347\">\n",
       "            <rect width=\"566.93\" height=\"223.75\" fill=\"white\"/>\n",
       "        </clipPath>\n",
       "    </defs>\n",
       "  </svg>\n",
       "</div>\n",
       "\n",
       "        <table class=\"jp-RenderedHTMLCommon\" style=\"border-collapse: collapse;color: var(--jp-ui-font-color1);font-size: var(--jp-ui-font-size1);\">\n",
       "    <tr>\n",
       "        <td style=\"text-align: left\"><b>Python version:</b></td>\n",
       "        <td style=\"text-align: left\"><b>3.8.18</b></td>\n",
       "    </tr>\n",
       "    <tr>\n",
       "        <td style=\"text-align: left\"><b>Ray version:</b></td>\n",
       "        <td style=\"text-align: left\"><b>2.9.3</b></td>\n",
       "    </tr>\n",
       "    <tr>\n",
       "    <td style=\"text-align: left\"><b>Dashboard:</b></td>\n",
       "    <td style=\"text-align: left\"><b><a href=\"http://10.47.192.23:8265\" target=\"_blank\">http://10.47.192.23:8265</a></b></td>\n",
       "</tr>\n",
       "\n",
       "</table>\n",
       "\n",
       "    </div>\n",
       "</div>\n"
      ],
      "text/plain": [
       "RayContext(dashboard_url='10.47.192.23:8265', python_version='3.8.18', ray_version='2.9.3', ray_commit='62655e11ed76509b78654b60be67bc59f8f3460a', protocol_version=None)"
      ]
     },
     "execution_count": 2,
     "metadata": {},
     "output_type": "execute_result"
    }
   ],
   "source": [
    "import ray\n",
    "import re\n",
    "import time\n",
    "import string \n",
    "import json \n",
    "\n",
    "NUM_CPUS=8\n",
    "ray.init()"
   ]
  },
  {
   "cell_type": "code",
   "execution_count": 22,
   "metadata": {
    "deletable": false,
    "nbgrader": {
     "cell_type": "code",
     "checksum": "8c6843c5b91ab745b9c19a8e1ccf700d",
     "grade": false,
     "grade_id": "cell-b716eddcf8c6559a",
     "locked": false,
     "schema_version": 3,
     "solution": true,
     "task": false
    }
   },
   "outputs": [],
   "source": [
    "@ray.remote\n",
    "class Mapper:\n",
    "    def __init__(self):\n",
    "        self.word_counts = {}\n",
    "    \n",
    "    def map(self, lines):\n",
    "        for line in lines:\n",
    "            words = re.findall(r'\\S+', line.lower())\n",
    "            for word in words:\n",
    "                self.word_counts[word] = self.word_counts.get(word, 0) + 1\n",
    "    \n",
    "    def get_counts(self):\n",
    "        return self.word_counts\n",
    "\n",
    "@ray.remote\n",
    "class Reducer:\n",
    "    def __init__(self):\n",
    "        self.word_counts = {}\n",
    "\n",
    "    def reduce(self, counts):\n",
    "        for counts_dict_ref in counts:\n",
    "            dict_counts = ray.get(counts_dict_ref)\n",
    "            for word, count in dict_counts.items():\n",
    "                self.word_counts[word] = self.word_counts.get(word, 0) + count\n",
    "\n",
    "    def get_counts(self):\n",
    "        return self.word_counts\n",
    "\n",
    "\n",
    "def main(text):\n",
    "\n",
    "    lines = text.split(\". \")\n",
    "    cl = [line.strip() for line in lines]\n",
    "    \n",
    "    # Please complete the core MapReduce algorithm here\n",
    "    \n",
    "    # YOUR CODE HERE\n",
    "    block_size = len(cl)//NUM_CPUS\n",
    "    mapper_refs = [Mapper.remote() for _ in range(NUM_CPUS+1)]\n",
    "    reducer_ref = Reducer.remote()\n",
    "    \n",
    "    for i in range(NUM_CPUS+1):\n",
    "        block = cl[i * block_size: (i + 1) * block_size]\n",
    "        mapper_refs[i].map.remote(block)\n",
    "\n",
    "    reducer_refs = [reducer_ref.reduce.remote([mapper_refs[i].get_counts.remote()]) for i in range(NUM_CPUS+1)]\n",
    "    ray.get(reducer_refs)\n",
    "    final_counts = ray.get(reducer_ref.get_counts.remote())\n",
    "    return final_counts"
   ]
  },
  {
   "cell_type": "markdown",
   "metadata": {},
   "source": [
    "# Wait, why am I using Ray for this again?\n",
    "\n",
    "We're dealing with a toy example with a small text file here. But even now, note that this code will run worker processes across all the nodes in a Ray cluster. The same code written for a single machine can scale to a cluster now."
   ]
  },
  {
   "cell_type": "code",
   "execution_count": 23,
   "metadata": {
    "deletable": false,
    "editable": false,
    "nbgrader": {
     "cell_type": "code",
     "checksum": "7f712a97546bba7ac1e28eeb572af5c5",
     "grade": false,
     "grade_id": "cell-65799d53d05e8015",
     "locked": true,
     "schema_version": 3,
     "solution": false,
     "task": false
    }
   },
   "outputs": [
    {
     "name": "stderr",
     "output_type": "stream",
     "text": [
      "2024-03-04 22:26:48,708\tINFO worker.py:1540 -- Connecting to existing Ray cluster at address: 10.47.192.23:6380...\n",
      "2024-03-04 22:26:48,718\tINFO worker.py:1715 -- Connected to Ray cluster. View the dashboard at \u001b[1m\u001b[32mhttp://10.47.192.23:8265 \u001b[39m\u001b[22m\n"
     ]
    },
    {
     "name": "stdout",
     "output_type": "stream",
     "text": [
      "\r\n",
      "======== List: 2024-03-04 22:26:51.682572 ========\r\n",
      "Stats:\r\n",
      "------------------------------\r\n",
      "Total: 31\r\n",
      "\r\n",
      "Table:\r\n",
      "------------------------------\r\n",
      "    ACTOR_ID                          CLASS_NAME            STATE    JOB_ID    NAME                  NODE_ID                                                     PID  RAY_NAMESPACE\r\n",
      " 0  0f3175e5f2a578448e0c96f71c000000  Info                  ALIVE    1c000000  info_dsc_204a         f8d09b7991c564bef44ff719e5377c06b41e25e35b18e6b830e1adcb  11899  f4f5ef8b-9943-4dd6-a562-f8a5f707168b\r\n",
      " 1  177e6bc4d72a9c25eff19fff09000000  Info                  ALIVE    09000000  info_dsc_204a         b766d1ef501a60f87e2c334154fd58764a344ecfb35d8ab4cdd6179f  25161  5c4ffda4-cb41-4fcb-aa8b-65dd2a4ae4ea\r\n",
      " 2  29739b559b470daa5cd32e4827000000  Reducer               ALIVE    27000000                        5644f0283c3734021b36913ef36a7035513f86bdf72c39b21c09188a  23513  d8a32d2b-4f8e-4b38-ac18-d6108c7022bb\r\n",
      " 3  34076ea5ea9f8f3554e106f124000000  Worker                ALIVE    24000000                        b766d1ef501a60f87e2c334154fd58764a344ecfb35d8ab4cdd6179f  39212  84fe6346-5ca3-4546-aa52-0ceabf4e3cf9\r\n",
      " 4  3de3e41dd4716f8db42492d71e000000  glooQueue             ALIVE    1e000000  gloo_queue            f8d09b7991c564bef44ff719e5377c06b41e25e35b18e6b830e1adcb  12216  94ab3140-08fe-48fd-8a82-ee854c148da1\r\n",
      " 5  4110318d306e078340caa79b1e000000  Info                  ALIVE    1e000000  info_dsc_204a         5644f0283c3734021b36913ef36a7035513f86bdf72c39b21c09188a  21177  94ab3140-08fe-48fd-8a82-ee854c148da1\r\n",
      " 6  47d32f73f8eb91d04addbad017000000  Info                  ALIVE    17000000  info_dsc_204a         b766d1ef501a60f87e2c334154fd58764a344ecfb35d8ab4cdd6179f  32277  a37724f1-1c64-46f2-8543-860d7d87b537\r\n",
      " 7  5a76845afc5c7cb11f00671e22000000  Info                  ALIVE    22000000  info_dsc_204a         b766d1ef501a60f87e2c334154fd58764a344ecfb35d8ab4cdd6179f  36224  4b268a21-7778-44ec-a840-fdd4fe693de8\r\n",
      " 8  5d730bd93a3f9f5433c56aee0c000000  Info                  ALIVE    0c000000  info_dsc_204a         b766d1ef501a60f87e2c334154fd58764a344ecfb35d8ab4cdd6179f  28038  51a64fc1-5a6d-4b59-8df4-b8414ce5e455\r\n",
      " 9  5dd76b188da771d0a2867bad0b000000  Info                  ALIVE    0b000000  info_dsc_204a         5644f0283c3734021b36913ef36a7035513f86bdf72c39b21c09188a  15425  9bf6bb2c-e219-4b0d-9dfd-b1ad2c2b6d66\r\n",
      "10  5f667d7816098c2ec6fa264024000000  Worker                ALIVE    24000000                        b766d1ef501a60f87e2c334154fd58764a344ecfb35d8ab4cdd6179f  39089  84fe6346-5ca3-4546-aa52-0ceabf4e3cf9\r\n",
      "11  6aa577b121a4dc0204c010f514000000  Info                  ALIVE    14000000  info_dsc_204a         b766d1ef501a60f87e2c334154fd58764a344ecfb35d8ab4cdd6179f  31122  7726cdec-d6b0-4568-bec1-952515ede80b\r\n",
      "12  74a516c1ccdc51fcfd7c641011000000  Info                  ALIVE    11000000  info_dsc_204a         5644f0283c3734021b36913ef36a7035513f86bdf72c39b21c09188a  18275  cf866bd4-33d5-4d5d-97ac-a9de9e750445\r\n",
      "13  7a32ad59693639715092d24f08000000  Info                  ALIVE    08000000  info_dsc_204a         5644f0283c3734021b36913ef36a7035513f86bdf72c39b21c09188a  13868  ab44a874-ee57-47ef-a801-00145dc98a25\r\n",
      "14  7ec39952adac3651279bb4f220000000  glooQueue             ALIVE    20000000  gloo_queue            f8d09b7991c564bef44ff719e5377c06b41e25e35b18e6b830e1adcb  12547  2a688933-1477-46cb-925a-e5d7dad2c731\r\n",
      "15  8495f70244613d8a2aab10fa24000000  Worker                ALIVE    24000000                        f8d09b7991c564bef44ff719e5377c06b41e25e35b18e6b830e1adcb  13134  84fe6346-5ca3-4546-aa52-0ceabf4e3cf9\r\n",
      "16  8795ce94814734d4532bc3eb24000000  Worker                ALIVE    24000000                        f8d09b7991c564bef44ff719e5377c06b41e25e35b18e6b830e1adcb  13083  84fe6346-5ca3-4546-aa52-0ceabf4e3cf9\r\n",
      "17  8e158168fa7184919255075f24000000  Worker                ALIVE    24000000                        f8d09b7991c564bef44ff719e5377c06b41e25e35b18e6b830e1adcb  12932  84fe6346-5ca3-4546-aa52-0ceabf4e3cf9\r\n",
      "18  98f22fa785f5f229dd8ee27d24000000  Worker                ALIVE    24000000                        f8d09b7991c564bef44ff719e5377c06b41e25e35b18e6b830e1adcb  12931  84fe6346-5ca3-4546-aa52-0ceabf4e3cf9\r\n",
      "19  a160b56468380e4d40f1130c24000000  Info                  ALIVE    24000000  info_dsc_204a         b766d1ef501a60f87e2c334154fd58764a344ecfb35d8ab4cdd6179f  39141  84fe6346-5ca3-4546-aa52-0ceabf4e3cf9\r\n",
      "20  a54bad5e1ff50cff0b68f82c24000000  Worker                ALIVE    24000000                        f8d09b7991c564bef44ff719e5377c06b41e25e35b18e6b830e1adcb  12930  84fe6346-5ca3-4546-aa52-0ceabf4e3cf9\r\n",
      "21  ad2f086c170fd26a366d6e7022000000  glooQueue             ALIVE    22000000  gloo_queue            b766d1ef501a60f87e2c334154fd58764a344ecfb35d8ab4cdd6179f  36440  4b268a21-7778-44ec-a840-fdd4fe693de8\r\n",
      "22  bef88da36efe0b2f230e079e20000000  Info                  ALIVE    20000000  info_dsc_204a         b766d1ef501a60f87e2c334154fd58764a344ecfb35d8ab4cdd6179f  35208  2a688933-1477-46cb-925a-e5d7dad2c731\r\n",
      "23  c35ed51e061da4194e4ddf2f02000000  AutoscalingRequester  ALIVE    02000000  AutoscalingRequester  5644f0283c3734021b36913ef36a7035513f86bdf72c39b21c09188a   2982  AutoscalingRequester\r\n",
      "24  c8e743331cab70865db7659202000000  _StatsActor           ALIVE    02000000  datasets_stats_actor  b766d1ef501a60f87e2c334154fd58764a344ecfb35d8ab4cdd6179f   4180  _dataset_stats_actor\r\n",
      "25  cb5464dec58b90bb4ba81e1027000000  Mapper                ALIVE    27000000                        f8d09b7991c564bef44ff719e5377c06b41e25e35b18e6b830e1adcb  13948  d8a32d2b-4f8e-4b38-ac18-d6108c7022bb\r\n",
      "26  d5535aed374baa8b24febad124000000  glooQueue             ALIVE    24000000  gloo_queue            b766d1ef501a60f87e2c334154fd58764a344ecfb35d8ab4cdd6179f  39367  84fe6346-5ca3-4546-aa52-0ceabf4e3cf9\r\n",
      "27  dcd220ef26a2cc330c572f200d000000  Info                  ALIVE    0d000000  info_dsc_204a         b766d1ef501a60f87e2c334154fd58764a344ecfb35d8ab4cdd6179f  28356  acf3699c-6c10-4d8d-b0bb-2364319353e9\r\n",
      "28  f6e491fb5663d45f8e05467624000000  Worker                ALIVE    24000000                        b766d1ef501a60f87e2c334154fd58764a344ecfb35d8ab4cdd6179f  39088  84fe6346-5ca3-4546-aa52-0ceabf4e3cf9\r\n",
      "29  ff1423193cbfd0da5e30be690a000000  Info                  ALIVE    0a000000  info_dsc_204a         b766d1ef501a60f87e2c334154fd58764a344ecfb35d8ab4cdd6179f  26481  48a715e2-24e1-4c91-b824-f41a882b13a8\r\n",
      "30  ff724a47f32f3b48e7b97c4e0e000000  Info                  ALIVE    0e000000  info_dsc_204a         5644f0283c3734021b36913ef36a7035513f86bdf72c39b21c09188a  17097  daa443f3-289f-4a6d-9774-82495cb0b9f0\r\n",
      "\r\n",
      "\u001b[0m"
     ]
    }
   ],
   "source": [
    "# launch a test mapper!\n",
    "mapper = Mapper.remote()\n",
    "# launch a test reducer\n",
    "reducer = Reducer.remote()\n",
    "# let's check their status\n",
    "!ray list actors -f state=ALIVE"
   ]
  },
  {
   "cell_type": "code",
   "execution_count": 24,
   "metadata": {
    "deletable": false,
    "editable": false,
    "nbgrader": {
     "cell_type": "code",
     "checksum": "e9e824b534c8bc9aab1e4a349a27d613",
     "grade": false,
     "grade_id": "cell-825c20f06aa720a2",
     "locked": true,
     "schema_version": 3,
     "solution": false,
     "task": false
    }
   },
   "outputs": [
    {
     "name": "stdout",
     "output_type": "stream",
     "text": [
      "\u001b[33m(raylet)\u001b[0m WARNING: 30 PYTHON worker processes have been started on node: b766d1ef501a60f87e2c334154fd58764a344ecfb35d8ab4cdd6179f with address: 10.47.192.23. This could be a result of using a large number of actors, or due to tasks blocked in ray.get() calls (see https://github.com/ray-project/ray/issues/3644 for some discussion of workarounds).\n"
     ]
    }
   ],
   "source": [
    "# get word counts for the example text file\n",
    "with open('Essay.txt', 'r') as file:\n",
    "    text = file.read()\n",
    "final_counts = main(text)"
   ]
  },
  {
   "cell_type": "code",
   "execution_count": 25,
   "metadata": {
    "deletable": false,
    "editable": false,
    "nbgrader": {
     "cell_type": "code",
     "checksum": "8102238fd9720a0aec5dced4c860eed9",
     "grade": true,
     "grade_id": "cell-e2a897e6a64303ea",
     "locked": true,
     "points": 40,
     "schema_version": 3,
     "solution": false,
     "task": false
    }
   },
   "outputs": [],
   "source": [
    "with open(\"task2_expected_output.txt\", \"r\") as f:\n",
    "    expected_out = json.load(f)\n",
    "assert expected_out == final_counts"
   ]
  },
  {
   "cell_type": "code",
   "execution_count": 21,
   "metadata": {},
   "outputs": [],
   "source": [
    "# shutdown!\n",
    "ray.shutdown()"
   ]
  },
  {
   "cell_type": "code",
   "execution_count": null,
   "metadata": {},
   "outputs": [],
   "source": []
  }
 ],
 "metadata": {
  "kernelspec": {
   "display_name": "Python 3 (ipykernel)",
   "language": "python",
   "name": "python3"
  },
  "language_info": {
   "codemirror_mode": {
    "name": "ipython",
    "version": 3
   },
   "file_extension": ".py",
   "mimetype": "text/x-python",
   "name": "python",
   "nbconvert_exporter": "python",
   "pygments_lexer": "ipython3",
   "version": "3.8.18"
  }
 },
 "nbformat": 4,
 "nbformat_minor": 2
}
