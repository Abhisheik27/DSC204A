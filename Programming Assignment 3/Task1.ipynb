{
 "cells": [
  {
   "cell_type": "markdown",
   "id": "2aed0820",
   "metadata": {},
   "source": [
    "# Task 1: Feature Engineering with Modin on Ray\n",
    "In this task, we'll perform some feature engineering for the Amazon Reviews dataset. We'll use Modin so that you can conveniently write pandas code and have your workload scale to a cluster."
   ]
  },
  {
   "cell_type": "code",
   "execution_count": 1,
   "id": "d73075ef",
   "metadata": {
    "deletable": false,
    "editable": false,
    "nbgrader": {
     "cell_type": "code",
     "checksum": "11b7e90d18d7f472c259bf4a110c3c97",
     "grade": false,
     "grade_id": "cell-ff88696f3f980e6a",
     "locked": true,
     "schema_version": 3,
     "solution": false,
     "task": false
    }
   },
   "outputs": [
    {
     "name": "stderr",
     "output_type": "stream",
     "text": [
      "2024-03-11 20:11:37,932\tINFO util.py:154 -- Outdated packages:\n",
      "  ipywidgets==7.8.1 found, needs ipywidgets>=8\n",
      "Run `pip install -U ipywidgets`, then restart the notebook server for rich notebook output.\n",
      "2024-03-11 20:11:37,942\tINFO worker.py:1540 -- Connecting to existing Ray cluster at address: 10.41.0.13:6380...\n",
      "2024-03-11 20:11:37,979\tINFO worker.py:1715 -- Connected to Ray cluster. View the dashboard at \u001b[1m\u001b[32mhttp://10.41.0.13:8265 \u001b[39m\u001b[22m\n"
     ]
    }
   ],
   "source": [
    "import ray\n",
    "ray.init()\n",
    "import os \n",
    "import json\n",
    "import modin.pandas as pd\n",
    "import numpy as np\n",
    "from ast import literal_eval"
   ]
  },
  {
   "cell_type": "code",
   "execution_count": 26,
   "id": "b948576f",
   "metadata": {},
   "outputs": [],
   "source": [
    "ray.shutdown()"
   ]
  },
  {
   "cell_type": "code",
   "execution_count": 2,
   "id": "886c1ef0",
   "metadata": {
    "deletable": false,
    "editable": false,
    "nbgrader": {
     "cell_type": "code",
     "checksum": "1feb9d63bae3d7535ee5f8fe1a995f3e",
     "grade": false,
     "grade_id": "cell-511c856ba7a3c214",
     "locked": true,
     "schema_version": 3,
     "solution": false,
     "task": false
    }
   },
   "outputs": [],
   "source": [
    "ROOT = \"~/public/pa3/\"\n",
    "ROOT = os.path.expanduser(ROOT) # expand user contractions"
   ]
  },
  {
   "cell_type": "markdown",
   "id": "d4452587",
   "metadata": {
    "deletable": false,
    "editable": false,
    "nbgrader": {
     "cell_type": "markdown",
     "checksum": "07bca982c69843ce72ad602889454e98",
     "grade": false,
     "grade_id": "cell-cbda26dcb4030719",
     "locked": true,
     "schema_version": 3,
     "solution": false,
     "task": false
    }
   },
   "source": [
    "Optional cleaning up: This is helpful when you validate your notebook in the end"
   ]
  },
  {
   "cell_type": "code",
   "execution_count": 3,
   "id": "9736c0d6",
   "metadata": {},
   "outputs": [],
   "source": [
    "!rm -f res_1_1.json res_1_2.json res_1_3.json res_1_4.json # remove previously saved results"
   ]
  },
  {
   "cell_type": "code",
   "execution_count": 4,
   "id": "ce1201fe",
   "metadata": {
    "deletable": false,
    "editable": false,
    "nbgrader": {
     "cell_type": "code",
     "checksum": "1823d281c83d77d36ff3e5dcb87b0574",
     "grade": false,
     "grade_id": "cell-3fad880cc5b9ddba",
     "locked": true,
     "schema_version": 3,
     "solution": false,
     "task": false
    }
   },
   "outputs": [],
   "source": [
    "def read_csv(directory):\n",
    "    files = [file for file in os.listdir(directory) if file.endswith('.csv')]\n",
    "    files = [os.path.join(directory, file) for file in files]\n",
    "    return pd.concat(map(pd.read_csv, files))"
   ]
  },
  {
   "cell_type": "code",
   "execution_count": 5,
   "id": "675b70b2",
   "metadata": {
    "deletable": false,
    "nbgrader": {
     "cell_type": "code",
     "checksum": "c5e584c815bf69af0522ebfac65b0d66",
     "grade": true,
     "grade_id": "cell-d615c0fa83808154",
     "locked": false,
     "points": 1,
     "schema_version": 3,
     "solution": true,
     "task": false
    }
   },
   "outputs": [
    {
     "name": "stderr",
     "output_type": "stream",
     "text": [
      "UserWarning: When using a pre-initialized Ray cluster, please ensure that the runtime env sets environment variable __MODIN_AUTOIMPORT_PANDAS__ to 1\n"
     ]
    }
   ],
   "source": [
    "product_data = read_csv(os.path.join(ROOT, \"metadata_header.csv\"))\n",
    "# add optional preprocessing here to make sure your columns are of the right dtypes\n",
    "# YOUR CODE HERE\n",
    "product_data['categories'] = product_data['categories'].apply(lambda x: literal_eval(x) if pd.notna(x) else None)\n",
    "product_data['salesRank'] = product_data['salesRank'].apply(lambda x: literal_eval(x) if pd.notna(x) else None)\n",
    "product_data['related'] = product_data['related'].apply(lambda x: literal_eval(x) if pd.notna(x) else None)"
   ]
  },
  {
   "cell_type": "code",
   "execution_count": 6,
   "id": "896ad134",
   "metadata": {},
   "outputs": [
    {
     "data": {
      "text/html": [
       "<div>\n",
       "<style scoped>\n",
       "    .dataframe tbody tr th:only-of-type {\n",
       "        vertical-align: middle;\n",
       "    }\n",
       "\n",
       "    .dataframe tbody tr th {\n",
       "        vertical-align: top;\n",
       "    }\n",
       "\n",
       "    .dataframe thead th {\n",
       "        text-align: right;\n",
       "    }\n",
       "</style>\n",
       "<table border=\"1\" class=\"dataframe\">\n",
       "  <thead>\n",
       "    <tr style=\"text-align: right;\">\n",
       "      <th></th>\n",
       "      <th>asin</th>\n",
       "      <th>salesRank</th>\n",
       "      <th>categories</th>\n",
       "      <th>title</th>\n",
       "      <th>price</th>\n",
       "      <th>related</th>\n",
       "    </tr>\n",
       "  </thead>\n",
       "  <tbody>\n",
       "    <tr>\n",
       "      <th>0</th>\n",
       "      <td>1590927052</td>\n",
       "      <td>{'Books': 7246388}</td>\n",
       "      <td>[[Books]]</td>\n",
       "      <td>The Blackhope Scaur Trilogy, Book Two: The Aba...</td>\n",
       "      <td>NaN</td>\n",
       "      <td>None</td>\n",
       "    </tr>\n",
       "    <tr>\n",
       "      <th>1</th>\n",
       "      <td>1590923332</td>\n",
       "      <td>{'Books': 12402333}</td>\n",
       "      <td>[[Books]]</td>\n",
       "      <td>The Short Division of the World Secret Service...</td>\n",
       "      <td>NaN</td>\n",
       "      <td>None</td>\n",
       "    </tr>\n",
       "    <tr>\n",
       "      <th>2</th>\n",
       "      <td>1590921437</td>\n",
       "      <td>{'Books': 3398366}</td>\n",
       "      <td>[[Books]]</td>\n",
       "      <td>Weddings and Courtships - France</td>\n",
       "      <td>NaN</td>\n",
       "      <td>None</td>\n",
       "    </tr>\n",
       "    <tr>\n",
       "      <th>3</th>\n",
       "      <td>1590950119</td>\n",
       "      <td>{'Books': 12650149}</td>\n",
       "      <td>[[Books]]</td>\n",
       "      <td>InsideScoop to MCP/MCSE Exam 70-291 Windows Se...</td>\n",
       "      <td>NaN</td>\n",
       "      <td>None</td>\n",
       "    </tr>\n",
       "    <tr>\n",
       "      <th>4</th>\n",
       "      <td>1590941594</td>\n",
       "      <td>{'Books': 8880497}</td>\n",
       "      <td>[[Books]]</td>\n",
       "      <td>Murder at the Blue Ridge Barbecue Festival</td>\n",
       "      <td>11.24</td>\n",
       "      <td>None</td>\n",
       "    </tr>\n",
       "    <tr>\n",
       "      <th>5</th>\n",
       "      <td>1590889975</td>\n",
       "      <td>{'Books': 12121372}</td>\n",
       "      <td>[[Books]]</td>\n",
       "      <td>The House in the Steeple</td>\n",
       "      <td>3.99</td>\n",
       "      <td>None</td>\n",
       "    </tr>\n",
       "    <tr>\n",
       "      <th>6</th>\n",
       "      <td>1590950305</td>\n",
       "      <td>{'Books': 9207098}</td>\n",
       "      <td>[[Books]]</td>\n",
       "      <td>ExamInsight For MCP/MCSE Exam 70-291 Windows S...</td>\n",
       "      <td>32.13</td>\n",
       "      <td>None</td>\n",
       "    </tr>\n",
       "    <tr>\n",
       "      <th>7</th>\n",
       "      <td>1590925939</td>\n",
       "      <td>{'Books': 11788357}</td>\n",
       "      <td>[[Books]]</td>\n",
       "      <td>The Dark Sorcerer's Return, Book Three of the ...</td>\n",
       "      <td>NaN</td>\n",
       "      <td>None</td>\n",
       "    </tr>\n",
       "    <tr>\n",
       "      <th>8</th>\n",
       "      <td>1590925920</td>\n",
       "      <td>{'Books': 11654621}</td>\n",
       "      <td>[[Books]]</td>\n",
       "      <td>David and Dad Catch the Rainbow</td>\n",
       "      <td>NaN</td>\n",
       "      <td>None</td>\n",
       "    </tr>\n",
       "    <tr>\n",
       "      <th>9</th>\n",
       "      <td>1590930053</td>\n",
       "      <td>{'Books': 1851853}</td>\n",
       "      <td>[[Books]]</td>\n",
       "      <td>Outside (Molly Book)</td>\n",
       "      <td>8.96</td>\n",
       "      <td>{'also_bought': ['1590930045', '1590930061', '...</td>\n",
       "    </tr>\n",
       "  </tbody>\n",
       "</table>\n",
       "</div>"
      ],
      "text/plain": [
       "         asin            salesRank categories  \\\n",
       "0  1590927052   {'Books': 7246388}  [[Books]]   \n",
       "1  1590923332  {'Books': 12402333}  [[Books]]   \n",
       "2  1590921437   {'Books': 3398366}  [[Books]]   \n",
       "3  1590950119  {'Books': 12650149}  [[Books]]   \n",
       "4  1590941594   {'Books': 8880497}  [[Books]]   \n",
       "5  1590889975  {'Books': 12121372}  [[Books]]   \n",
       "6  1590950305   {'Books': 9207098}  [[Books]]   \n",
       "7  1590925939  {'Books': 11788357}  [[Books]]   \n",
       "8  1590925920  {'Books': 11654621}  [[Books]]   \n",
       "9  1590930053   {'Books': 1851853}  [[Books]]   \n",
       "\n",
       "                                               title  price  \\\n",
       "0  The Blackhope Scaur Trilogy, Book Two: The Aba...    NaN   \n",
       "1  The Short Division of the World Secret Service...    NaN   \n",
       "2                   Weddings and Courtships - France    NaN   \n",
       "3  InsideScoop to MCP/MCSE Exam 70-291 Windows Se...    NaN   \n",
       "4         Murder at the Blue Ridge Barbecue Festival  11.24   \n",
       "5                           The House in the Steeple   3.99   \n",
       "6  ExamInsight For MCP/MCSE Exam 70-291 Windows S...  32.13   \n",
       "7  The Dark Sorcerer's Return, Book Three of the ...    NaN   \n",
       "8                    David and Dad Catch the Rainbow    NaN   \n",
       "9                               Outside (Molly Book)   8.96   \n",
       "\n",
       "                                             related  \n",
       "0                                               None  \n",
       "1                                               None  \n",
       "2                                               None  \n",
       "3                                               None  \n",
       "4                                               None  \n",
       "5                                               None  \n",
       "6                                               None  \n",
       "7                                               None  \n",
       "8                                               None  \n",
       "9  {'also_bought': ['1590930045', '1590930061', '...  "
      ]
     },
     "execution_count": 6,
     "metadata": {},
     "output_type": "execute_result"
    }
   ],
   "source": [
    "product_data.head(10)"
   ]
  },
  {
   "cell_type": "markdown",
   "id": "ebae40df",
   "metadata": {},
   "source": [
    "# Task 1.1: flatten `categories` and `salesRank`"
   ]
  },
  {
   "cell_type": "code",
   "execution_count": 7,
   "id": "a5119e56",
   "metadata": {
    "deletable": false,
    "nbgrader": {
     "cell_type": "code",
     "checksum": "3c4948fdbdc21f1c9ca5438fc4397634",
     "grade": true,
     "grade_id": "cell-8cc167bf26854285",
     "locked": false,
     "points": 14,
     "schema_version": 3,
     "solution": true,
     "task": false
    }
   },
   "outputs": [],
   "source": [
    "def part1(product_data):\n",
    "    \n",
    "    # Column names\n",
    "    salesRank_column = 'salesRank'\n",
    "    categories_column = 'categories'\n",
    "    asin_column = 'asin'\n",
    "    \n",
    "    # Outputs\n",
    "    category_column = 'category'\n",
    "    bestSalesCategory_column = 'bestSalesCategory'\n",
    "    bestSalesRank_column = 'bestSalesRank'\n",
    "    \n",
    "    res = {\n",
    "        'count_total': None,\n",
    "        'mean_bestSalesRank': None,\n",
    "        'variance_bestSalesRank': None,\n",
    "        'numNulls_category': None,\n",
    "        'countDistinct_category': None,\n",
    "        'numNulls_bestSalesCategory': None,\n",
    "        'countDistinct_bestSalesCategory': None\n",
    "    }\n",
    "    # populate res below\n",
    "    # YOUR CODE HERE\n",
    "    product_data[category_column] = product_data[categories_column].apply(lambda x: x[0][0] if x and x[0] and len(x[0][0])>0 else None)\n",
    "\n",
    "    # Task 2: Flatten the salesRank column into two separate columns\n",
    "    product_data[bestSalesCategory_column] = product_data[salesRank_column].apply(lambda x: list(x.keys())[0] if x else None)\n",
    "    product_data[bestSalesRank_column] = product_data[salesRank_column].apply(lambda x: list(x.values())[0] if x else None)\n",
    "        \n",
    "    res['count_total'] = int(product_data.shape[0])\n",
    "    res['mean_bestSalesRank'] = float(product_data[bestSalesRank_column].mean())\n",
    "    res['variance_bestSalesRank'] = float(product_data[bestSalesRank_column].var())\n",
    "    res['numNulls_category'] = int(product_data[category_column].isna().sum())\n",
    "    res['countDistinct_category'] = int(product_data[category_column].nunique())\n",
    "    res['numNulls_bestSalesCategory'] = int(product_data[bestSalesCategory_column].isna().sum())\n",
    "    res['countDistinct_bestSalesCategory'] = int(product_data[bestSalesCategory_column].nunique())\n",
    "\n",
    "    return res\n"
   ]
  },
  {
   "cell_type": "code",
   "execution_count": 8,
   "id": "f6862cec",
   "metadata": {
    "deletable": false,
    "editable": false,
    "nbgrader": {
     "cell_type": "code",
     "checksum": "5e5335f3cd621fab46a5201fa1998ee4",
     "grade": false,
     "grade_id": "cell-9cde2dded5fd2ed4",
     "locked": true,
     "schema_version": 3,
     "solution": false,
     "task": false
    }
   },
   "outputs": [
    {
     "name": "stdout",
     "output_type": "stream",
     "text": [
      "{'count_total': 1960789, 'mean_bestSalesRank': 1751359.4469592853, 'variance_bestSalesRank': 5632665706967.55, 'numNulls_category': 32180, 'countDistinct_category': 75, 'numNulls_bestSalesCategory': 306918, 'countDistinct_bestSalesCategory': 33}\n"
     ]
    }
   ],
   "source": [
    "res = part1(product_data)\n",
    "print(res)"
   ]
  },
  {
   "cell_type": "code",
   "execution_count": 9,
   "id": "7d9a1589",
   "metadata": {
    "deletable": false,
    "editable": false,
    "nbgrader": {
     "cell_type": "code",
     "checksum": "e00a22c3bf4735d9753da6a1bdb8a595",
     "grade": false,
     "grade_id": "cell-08d14d1ac27f52ab",
     "locked": true,
     "schema_version": 3,
     "solution": false,
     "task": false
    }
   },
   "outputs": [],
   "source": [
    "with open(\"res_1_1.json\", \"w\") as f:\n",
    "    json.dump(res, f)"
   ]
  },
  {
   "cell_type": "markdown",
   "id": "0ed11a6c",
   "metadata": {
    "deletable": false,
    "editable": false,
    "nbgrader": {
     "cell_type": "markdown",
     "checksum": "1b4372c06e12dbaa49a924f0bb3697ac",
     "grade": false,
     "grade_id": "cell-d12e31c78181ce4d",
     "locked": true,
     "schema_version": 3,
     "solution": false,
     "task": false
    }
   },
   "source": [
    "# Task 1.2: flatten `related`"
   ]
  },
  {
   "cell_type": "code",
   "execution_count": 11,
   "id": "f5dfd88b",
   "metadata": {
    "deletable": false,
    "nbgrader": {
     "cell_type": "code",
     "checksum": "efaf7e04e00785b129c7af4aec4d8775",
     "grade": true,
     "grade_id": "cell-3a223906deb605e1",
     "locked": false,
     "points": 15,
     "schema_version": 3,
     "solution": true,
     "task": false
    }
   },
   "outputs": [],
   "source": [
    "def part2(product_data):\n",
    "    #Column names\n",
    "    asin_column = 'asin'\n",
    "    price_column = 'price'\n",
    "    attribute = 'also_viewed'\n",
    "    related_column = 'related'\n",
    "    \n",
    "    #Outputs\n",
    "    meanPriceAlsoViewed_column = 'meanPriceAlsoViewed'\n",
    "    countAlsoViewed_column = 'countAlsoViewed'\n",
    "    \n",
    "    res = {\n",
    "        'count_total': None,\n",
    "        'mean_meanPriceAlsoViewed': None,\n",
    "        'variance_meanPriceAlsoViewed':  None,\n",
    "        'numNulls_meanPriceAlsoViewed':  None,\n",
    "        'mean_countAlsoViewed':  None,\n",
    "        'variance_countAlsoViewed':  None,\n",
    "        'numNulls_countAlsoViewed':  None\n",
    "    }\n",
    "    \n",
    "    # populate res below\n",
    "    # YOUR CODE HERE\n",
    "    asin_price_dict = dict(zip(product_data['asin'], product_data['price']))\n",
    "    \n",
    "    # Function to calculate mean price for a given list of product IDs\n",
    "    def calculate_mean_price(product_ids, asin_price_dict):\n",
    "        valid_prices = [asin_price_dict.get(pid) for pid in product_ids if pid in asin_price_dict]\n",
    "        valid_prices = [price for price in valid_prices if pd.notna(price)]\n",
    "        return sum(valid_prices) / len(valid_prices) if len(valid_prices) > 0 else None\n",
    "\n",
    "    # Apply the function to the DataFrame, handling the case when 'also_viewed' is not present\n",
    "#     product_data['meanPriceAlsoViewed'] = product_data['related'].apply(lambda x: calculate_mean_price(x.get('also_viewed', []), asin_price_dict) if isinstance(x, dict) else None)\n",
    "    product_data['meanPriceAlsoViewed'] = product_data['related'].apply(lambda x: calculate_mean_price(x.get('also_viewed', []), asin_price_dict) if isinstance(x, dict) else None)\n",
    "\n",
    "    # Apply similar logic to the 'countAlsoViewed'\n",
    "    product_data[countAlsoViewed_column] = product_data[related_column].apply(lambda row: len(row.get(attribute, [])) if isinstance(row, dict) and row.get(attribute) else None)\n",
    "    \n",
    "    # Calculate required statistics and update the res dictionary\n",
    "    res['count_total'] = int(product_data.shape[0])\n",
    "    res['mean_meanPriceAlsoViewed'] = float(product_data[meanPriceAlsoViewed_column].mean()) if product_data[meanPriceAlsoViewed_column].mean() is not np.nan else None\n",
    "    res['variance_meanPriceAlsoViewed'] = float(product_data[meanPriceAlsoViewed_column].var()) if product_data[meanPriceAlsoViewed_column].var() is not np.nan else None\n",
    "    res['numNulls_meanPriceAlsoViewed'] = int(product_data[meanPriceAlsoViewed_column].isnull().sum())\n",
    "    res['mean_countAlsoViewed'] = float(product_data[countAlsoViewed_column].mean()) if product_data[countAlsoViewed_column].mean() is not np.nan else None\n",
    "    res['variance_countAlsoViewed'] = float(product_data[countAlsoViewed_column].var()) if product_data[countAlsoViewed_column].var() is not np.nan else None\n",
    "    res['numNulls_countAlsoViewed'] = int(product_data[countAlsoViewed_column].isnull().sum())\n",
    "\n",
    "    \n",
    "    return res"
   ]
  },
  {
   "cell_type": "code",
   "execution_count": 12,
   "id": "9edb22b8",
   "metadata": {
    "deletable": false,
    "editable": false,
    "nbgrader": {
     "cell_type": "code",
     "checksum": "5119549b30a2c864f687a8e39d7ea51e",
     "grade": false,
     "grade_id": "cell-1bdc35769bf1bfce",
     "locked": true,
     "schema_version": 3,
     "solution": false,
     "task": false
    }
   },
   "outputs": [
    {
     "name": "stdout",
     "output_type": "stream",
     "text": [
      "{'count_total': 1960789, 'mean_meanPriceAlsoViewed': 37.63668174891553, 'variance_meanPriceAlsoViewed': 4392.26524199995, 'numNulls_meanPriceAlsoViewed': 1531568, 'mean_countAlsoViewed': 28.337187114866374, 'variance_countAlsoViewed': 571.6873965669193, 'numNulls_countAlsoViewed': 1330326}\n"
     ]
    }
   ],
   "source": [
    "res = part2(product_data)\n",
    "print(res)"
   ]
  },
  {
   "cell_type": "code",
   "execution_count": 14,
   "id": "3440b253",
   "metadata": {
    "deletable": false,
    "editable": false,
    "nbgrader": {
     "cell_type": "code",
     "checksum": "08f3357d9824bed59070ce96ceee0abb",
     "grade": false,
     "grade_id": "cell-67368887e77dfed0",
     "locked": true,
     "schema_version": 3,
     "solution": false,
     "task": false
    }
   },
   "outputs": [],
   "source": [
    "with open(\"res_1_2.json\", \"w\") as f:\n",
    "    json.dump(res, f)"
   ]
  },
  {
   "cell_type": "markdown",
   "id": "450617c7",
   "metadata": {
    "deletable": false,
    "editable": false,
    "nbgrader": {
     "cell_type": "markdown",
     "checksum": "2e2be7bb9b1de4126ed64c1e8702619d",
     "grade": false,
     "grade_id": "cell-dfc9a51bde381b14",
     "locked": true,
     "schema_version": 3,
     "solution": false,
     "task": false
    }
   },
   "source": [
    "# Task 1.3: impute `price`"
   ]
  },
  {
   "cell_type": "code",
   "execution_count": 15,
   "id": "c6d2cad7",
   "metadata": {
    "deletable": false,
    "nbgrader": {
     "cell_type": "code",
     "checksum": "e796493532382fd8b8f2a94d48693264",
     "grade": true,
     "grade_id": "cell-e5f7613782220967",
     "locked": false,
     "points": 10,
     "schema_version": 3,
     "solution": true,
     "task": false
    }
   },
   "outputs": [],
   "source": [
    "from sklearn.impute import SimpleImputer\n",
    "\n",
    "\n",
    "\n",
    "def part3(product_data):\n",
    "\n",
    "    price_column = 'price'\n",
    "    title_column = 'title'\n",
    "    # Outputs:\n",
    "    meanImputedPrice_column = 'meanImputedPrice'\n",
    "    medianImputedPrice_column = 'medianImputedPrice'\n",
    "    unknownImputedTitle_column = 'unknownImputedTitle'\n",
    "    \n",
    "    res = {\n",
    "        'count_total': None,\n",
    "        'mean_meanImputedPrice': None,\n",
    "        'variance_meanImputedPrice': None,\n",
    "        'numNulls_meanImputedPrice': None,\n",
    "        'mean_medianImputedPrice': None,\n",
    "        'variance_medianImputedPrice': None,\n",
    "        'numNulls_medianImputedPrice': None,\n",
    "        'numUnknowns_unknownImputedTitle': None,\n",
    "    }\n",
    "    # Populate res below\n",
    "    # YOUR CODE HERE\n",
    "    mean_imputer = SimpleImputer(strategy='mean')\n",
    "    product_data[meanImputedPrice_column] = mean_imputer.fit_transform(product_data[[price_column]])\n",
    "\n",
    "    # Impute missing values in the 'price' column with median\n",
    "    median_imputer = SimpleImputer(strategy='median')\n",
    "    product_data[medianImputedPrice_column] = median_imputer.fit_transform(product_data[[price_column]])\n",
    "\n",
    "    # Impute missing values in the 'title' column with 'unknown'\n",
    "    product_data[unknownImputedTitle_column] = product_data[title_column].fillna('unknown')\n",
    "\n",
    "    # Calculate statistics\n",
    "    res['count_total'] = int(len(product_data))\n",
    "    res['mean_meanImputedPrice'] = float(product_data[meanImputedPrice_column].mean())\n",
    "    res['variance_meanImputedPrice'] = float(product_data[meanImputedPrice_column].var())\n",
    "    res['numNulls_meanImputedPrice'] = int(product_data[meanImputedPrice_column].isnull().sum())\n",
    "    res['mean_medianImputedPrice'] = float(product_data[medianImputedPrice_column].mean())\n",
    "    res['variance_medianImputedPrice'] = float(product_data[medianImputedPrice_column].var())\n",
    "    res['numNulls_medianImputedPrice'] = int(product_data[medianImputedPrice_column].isnull().sum())\n",
    "    res['numUnknowns_unknownImputedTitle'] = int((product_data[unknownImputedTitle_column] == 'unknown').sum())\n",
    "\n",
    "    return res"
   ]
  },
  {
   "cell_type": "code",
   "execution_count": 16,
   "id": "f1f39de9",
   "metadata": {
    "deletable": false,
    "editable": false,
    "nbgrader": {
     "cell_type": "code",
     "checksum": "d56d75303fdb6c4e74729dfb15078d06",
     "grade": false,
     "grade_id": "cell-3890b50e9021505e",
     "locked": true,
     "schema_version": 3,
     "solution": false,
     "task": false
    }
   },
   "outputs": [
    {
     "name": "stdout",
     "output_type": "stream",
     "text": [
      "{'count_total': 1960789, 'mean_meanImputedPrice': 26.58890293679852, 'variance_meanImputedPrice': 2075.742678711281, 'numNulls_meanImputedPrice': 0, 'mean_medianImputedPrice': 22.923684200594764, 'variance_medianImputedPrice': 2110.7956911074302, 'numNulls_medianImputedPrice': 0, 'numUnknowns_unknownImputedTitle': 137073}\n"
     ]
    }
   ],
   "source": [
    "res = part3(product_data)\n",
    "print(res)"
   ]
  },
  {
   "cell_type": "code",
   "execution_count": 17,
   "id": "fec63e63",
   "metadata": {
    "deletable": false,
    "editable": false,
    "nbgrader": {
     "cell_type": "code",
     "checksum": "ed11bb9d2d7eb2e7bb1f230e0c160201",
     "grade": false,
     "grade_id": "cell-4b4744aba162b501",
     "locked": true,
     "schema_version": 3,
     "solution": false,
     "task": false
    }
   },
   "outputs": [],
   "source": [
    "with open(\"res_1_3.json\", \"w\") as f:\n",
    "    json.dump(res, f)"
   ]
  },
  {
   "cell_type": "markdown",
   "id": "bf771b9b",
   "metadata": {},
   "source": [
    "# Task 1.4: Process `title` and one-hot encode `category`\n",
    "\n",
    "For this task, we'll use the preprocessed dataset `product_processed.csv`. Our goal is to split up the `title` entries into constituent words and one-hot encode the `category` column."
   ]
  },
  {
   "cell_type": "code",
   "execution_count": 18,
   "id": "bf3f0b9f",
   "metadata": {},
   "outputs": [],
   "source": [
    "del product_data # free up some memory"
   ]
  },
  {
   "cell_type": "code",
   "execution_count": 19,
   "id": "bf6b43a2",
   "metadata": {
    "deletable": false,
    "editable": false,
    "nbgrader": {
     "cell_type": "code",
     "checksum": "871d57d1d223c5ce3a9c614133bbdb45",
     "grade": false,
     "grade_id": "cell-e23ebe5eaf600f1c",
     "locked": true,
     "schema_version": 3,
     "solution": false,
     "task": false
    }
   },
   "outputs": [],
   "source": [
    "product_processed_data = pd.read_csv(os.path.join(ROOT, \"product_processed.csv\")) # read a single csv file"
   ]
  },
  {
   "cell_type": "markdown",
   "id": "98921e15",
   "metadata": {},
   "source": [
    "1. For each row, convert `title` to lowercase, then split it by whitespace (’ ’) to an array of strings, store this array in a new column titleArray.\n",
    "2. One-hot encode the `category` column. In this case, make sure to use the sorted order of the unique categories to form the one-hot vector."
   ]
  },
  {
   "cell_type": "code",
   "execution_count": 20,
   "id": "fdae8940",
   "metadata": {
    "deletable": false,
    "nbgrader": {
     "cell_type": "code",
     "checksum": "410d0d8f1ab1971731f4f19f82a74c55",
     "grade": false,
     "grade_id": "cell-2e7359d648a49255",
     "locked": false,
     "schema_version": 3,
     "solution": true,
     "task": false
    }
   },
   "outputs": [],
   "source": [
    "def part4(product_processed_data):\n",
    "    \n",
    "    # Inputs\n",
    "    title_column = 'title'\n",
    "    category_column = 'category'\n",
    "    \n",
    "    # Outputs\n",
    "    titleArray_column = 'titleArray'\n",
    "    categoryOneHot_column = 'categoryOneHot'\n",
    "    \n",
    "    res = {\n",
    "        'count_total': None, \n",
    "        'meanLength_titleArray': None,\n",
    "        'mean_categoryOneHot': None,\n",
    "    }\n",
    "    # populate res below\n",
    "     # Step 1: Convert 'title' to lowercase and split into an array of strings\n",
    "    product_processed_data[titleArray_column] = product_processed_data[title_column].str.lower().str.split(' ')\n",
    "\n",
    "    # Step 2: Calculate mean length of the arrays in 'titleArray'\n",
    "    res['meanLength_titleArray'] = product_processed_data[titleArray_column].apply(len).mean()\n",
    "\n",
    "    # Step 3: One-hot encode the 'category' column\n",
    "    categories = sorted(product_processed_data[category_column].unique())\n",
    "    one_hot_encoded = pd.get_dummies(product_processed_data[category_column], columns=categories)\n",
    "    product_processed_data = pd.concat([product_processed_data, one_hot_encoded], axis=1)\n",
    "\n",
    "    # Calculate the mean value of one-hot encoding vectors\n",
    "    mean_categoryOneHot = np.mean(one_hot_encoded, axis=0).tolist()\n",
    "    res['mean_categoryOneHot'] = mean_categoryOneHot\n",
    "\n",
    "    # Calculate total count\n",
    "    res['count_total'] = len(product_processed_data)\n",
    "\n",
    "    return res"
   ]
  },
  {
   "cell_type": "code",
   "execution_count": 21,
   "id": "cd415a9f",
   "metadata": {
    "deletable": false,
    "editable": false,
    "nbgrader": {
     "cell_type": "code",
     "checksum": "49174288623343326715e64f4c4d662f",
     "grade": false,
     "grade_id": "cell-ac6350d47fe772c8",
     "locked": true,
     "schema_version": 3,
     "solution": false,
     "task": false
    }
   },
   "outputs": [
    {
     "name": "stderr",
     "output_type": "stream",
     "text": [
      "UserWarning: `get_dummies` on non-DataFrame is not currently supported by PandasOnRay, defaulting to pandas implementation.\n",
      "Please refer to https://modin.readthedocs.io/en/stable/supported_apis/defaulting_to_pandas.html for explanation.\n",
      "UserWarning: Distributing <class 'pandas.core.frame.DataFrame'> object. This may take some time.\n",
      "UserWarning: <function Series.tolist> is not currently supported by PandasOnRay, defaulting to pandas implementation.\n"
     ]
    },
    {
     "name": "stdout",
     "output_type": "stream",
     "text": [
      "{'count_total': 9430000, 'meanLength_titleArray': 8.099168716861081, 'mean_categoryOneHot': [1.0604453870625663e-07, 0.0006977730646871687, 2.226935312831389e-06, 0.0008027571580063626, 0.00040943796394485684, 4.241781548250265e-07, 0.002560445387062566, 3.181336161187699e-07, 0.003249946977730647, 0.0012358430540827148, 0.006526405090137858, 1.6118769883351007e-05, 0.012449946977730646, 0.03510593849416755, 0.0075626723223753975, 0.0010625662778366914, 0.02748356309650053, 9.544008483563096e-05, 0.25131601272534465, 3.022269353128314e-05, 0.0002009544008483563, 0.05214347826086956, 4.899257688229056e-05, 4.32661717921527e-05, 2.1208907741251325e-07, 0.0367677624602333, 3.297985153764581e-05, 0.0007919406150583245, 3.340402969247084e-05, 0.00024422057264050903, 0.1522659597030753, 1.0604453870625663e-07, 0.0006481442205726405, 0.000471898197242842, 0.00015238600212089077, 0.0004906680805938494, 6.256627783669141e-06, 0.028671261930010603, 0.05254252386002121, 6.362672322375398e-07, 0.0002129374337221633, 1.1452810180275715e-05, 3.8282078472958644e-05, 5.111346765641569e-05, 5.302226935312832e-07, 2.1208907741251325e-07, 0.01821325556733828, 9.692470837751856e-05, 0.02781728525980912, 0.04633690349946978, 0.00041823966065747615, 0.005004878048780487, 0.0005278897136797455, 0.00023944856839872746, 0.0006583244962884412, 0.00039777306468716863, 1.166489925768823e-06, 0.00020424178154825027, 0.00017730646871686107, 0.00015662778366914103, 4.241781548250265e-07, 0.000436373276776246, 0.020665323435843055, 0.007260021208907741, 7.094379639448568e-05, 0.000351643690349947, 0.014239766702014846, 0.01154305408271474, 0.011721633085896077, 0.00037380699893955463, 2.1208907741251325e-07, 3.499469777306469e-06, 0.00018048780487804877, 6.256627783669141e-05, 0.00026691410392364794, 0.001878897136797455, 0.05620243902439025, 2.8632025450689288e-06, 0.02846967126193001, 0.03557656415694592, 0.005181760339342524, 0.00013117709437963945, 0.028649946977730645]}\n"
     ]
    }
   ],
   "source": [
    "res = part4(product_processed_data)\n",
    "print(res)"
   ]
  },
  {
   "cell_type": "code",
   "execution_count": 22,
   "id": "a27087b0",
   "metadata": {
    "deletable": false,
    "editable": false,
    "nbgrader": {
     "cell_type": "code",
     "checksum": "d9181bfa8009b1e3cfacfd69df5858c2",
     "grade": false,
     "grade_id": "cell-10af6a1bd3f91577",
     "locked": true,
     "schema_version": 3,
     "solution": false,
     "task": false
    }
   },
   "outputs": [],
   "source": [
    "with open(\"res_1_4.json\", \"w\") as f:\n",
    "    json.dump(res, f)"
   ]
  },
  {
   "cell_type": "markdown",
   "id": "766e781a",
   "metadata": {},
   "source": [
    "# Is that it?\n",
    "\n",
    "To make this dataset ready for ML tasks, there are many more feature engineering steps to be done, which we haven't covered here. For example, the `titleArray` column can now be fed into a Word2Vec model for meaningful embeddings. We've stuck with a few simple operations here. Next, in task 2, you'll use preprocessed train and test datasets to train Xgboost models in a multi-node fashion!"
   ]
  },
  {
   "cell_type": "code",
   "execution_count": null,
   "id": "ddd923c1",
   "metadata": {},
   "outputs": [],
   "source": [
    "# shutdown!\n",
    "ray.shutdown()"
   ]
  },
  {
   "cell_type": "code",
   "execution_count": null,
   "id": "787d1075",
   "metadata": {},
   "outputs": [],
   "source": []
  }
 ],
 "metadata": {
  "kernelspec": {
   "display_name": "Python 3 (ipykernel)",
   "language": "python",
   "name": "python3"
  },
  "language_info": {
   "codemirror_mode": {
    "name": "ipython",
    "version": 3
   },
   "file_extension": ".py",
   "mimetype": "text/x-python",
   "name": "python",
   "nbconvert_exporter": "python",
   "pygments_lexer": "ipython3",
   "version": "3.8.18"
  }
 },
 "nbformat": 4,
 "nbformat_minor": 5
}
